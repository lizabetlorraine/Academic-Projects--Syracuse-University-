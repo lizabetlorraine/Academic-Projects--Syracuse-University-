{
 "cells": [
  {
   "cell_type": "markdown",
   "id": "fe778578-9ea5-4138-9512-ea582d53b99c",
   "metadata": {},
   "source": [
    "## SYRCITYLINE DATA ANALYSIS\n",
    "\n",
    "**BY TIA AND ELIZABETH**"
   ]
  },
  {
   "cell_type": "markdown",
   "id": "a0a8f765-f1f1-4fbc-80d6-46dcf19101b3",
   "metadata": {
    "tags": []
   },
   "source": [
    "### GOALS AND OBJECTIVES"
   ]
  },
  {
   "cell_type": "markdown",
   "id": "17676087-3233-486b-bf86-badd27b8175d",
   "metadata": {},
   "source": [
    "For our final project, we used the “SYRCityline Requests (2021-Present)” dataset on data.syr.gov. This dataset is a collection of user-reported service requests submitted through Syracuse's CityLine program. Cityline is a tool that allows city residents to report non-emergency service requests such as public litter, illegal trash setouts and street sewage concerns. This tool was adopted by the city to allow residents to quickly resolve service issues within their community. Our ultimate goal with this analysis is to assess how well this tool works. Is the tool being used regularly by residents? Are issues acknowledged and resolved quickly? Has it empowered residents and improved their lives as it was intended to do? These are the type of questions we hope to answer. Additionally, we want to identify areas of potential improvement. For instance, what factors impact time of resolution when it comes to service requests, and can we find key indicators that will predict future issues. With a dataset containing months worth of information and updated frequently (almost daily) we are optimistic that we will come away with worthwhile analysis that leads to an improved community experience as well as a better quality of life for all Syracuse residents. Our specific questions are as follows:\n",
    "\n",
    "1. Is the city reponding to service requests in a timely manner?\n",
    "2. How can we improve performance?\n",
    "    1. Look at agency imipact: Which agency completes the most requests? \n",
    "    2. Look at location and assignee impact: Is there a correlation between location and assignee name?\n",
    "    3. Which agency completes the most requests?\n",
    "    4.  What parts of town submit the most requests (south, east, north, west)?\n"
   ]
  },
  {
   "cell_type": "markdown",
   "id": "45ef0c46-d373-42cc-b943-db391f73ef3f",
   "metadata": {
    "jp-MarkdownHeadingCollapsed": true,
    "tags": []
   },
   "source": [
    "### DATA SOURCES AND CHARACTERISTICS"
   ]
  },
  {
   "cell_type": "markdown",
   "id": "ffd2bf64-1d89-449a-b17f-79ae29b2a734",
   "metadata": {
    "jp-MarkdownHeadingCollapsed": true,
    "tags": []
   },
   "source": [
    "This dataset is a collection of user reported service requests submitted through Syracuse's CityLine program. Cityline is a tool that allows city residents to report non-emergency service requests such as public litter, illegal trash setouts and street and sewage concerns. SeeClickFix software and data appears to be uploaded through this sofware.\n",
    "\n",
    "*This dataset located on the Syracuse Open Data website at: https://data.syr.gov/datasets/0d58a53ccb22457990161d756ed8a870_0/about .*\n",
    "\n",
    "\n",
    "### Data Dictionary:\n",
    "\n",
    "1. Id - Identification number assigned to each incident\n",
    "\n",
    "2. Summary - String that users select to categorize the nature of their complaint.  Can be either Large or Bulk Items, Illegal Setouts, Sewer Back-ups, Weekly Trash Pickup, Large or Bulk Items - Skipped Pickup, Home & Building Maintenance, Sewer-related Concerns, Recyclling, Other Housing & Property Maintenance Concern, Streeth Lights, or Other.  \n",
    "\n",
    "3. Rating - The number of followers on the Request in SeeClickFix.\n",
    "\n",
    "4. Address - Address of the service request or complaint, provided by the community member.\n",
    "\n",
    "5. Description - Write up of the service request or complaint, provided by the community member.\n",
    "\n",
    "6. Agency Name - What type of City Department was this complaint assigned to.  These include: \n",
    "- Streets, Sidewalks & Transportation\n",
    "- Garbage, Recycling & Graffiti\n",
    "- Housing & Property Maintenance\n",
    "- Feedback to the City\n",
    "- Parking & Vehicles\n",
    "- Green Spaces, Trees & Public Utilities\n",
    "- Water & Sewage\n",
    "- Animals\n",
    "\n",
    "7. Request type - ID number associated with the specific 'Summary' category a user selects\n",
    "\n",
    "8. URL - Unique website address (url) that the complaint as well as comments from the City personnel can be viewed at.\n",
    "\n",
    "9. Lat - Latitude GPS coordinate where the address is.\n",
    "\n",
    "10. Lng - Longitude GPS coordinate where the address is.\n",
    "\n",
    "11. Export tagged places - Which quadrant of the city is this address matched to (Northeast, Southeast, Northwest, or Southwest).\n",
    "\n",
    "12. Created at local - When this complaint or service was requested.  (This is also in the format of *MM/DD/YYYY - HH:MM(AM/PM*)).\n",
    "\n",
    "13. Acknowledged at local - When this complaint or service request was acknowledged by the City department.  \n",
    "\n",
    "14. Closed at local - When this complaint or service request was marked as being closed by the City department.\n",
    "\n",
    "15. Minutes to acknowledged - The amount of time, in minutes, after it was Created at Local to being marked Acknowledged at local.\n",
    "\n",
    "16. Minutes to closed - The amount of time, in minutes,  after service request was created at local to when it was marked as Closed at local. \n",
    "\n",
    "17. Assignee name - Which city Department was assigned to this request.  \n",
    "\n",
    "18. Category - How was this request categorized.  This can be Potholes, Large or Bulk Items, Water-related Concerns, Home & Building Maintenance, Street Lights, Weekly Trash Pickup, Public Trash Can, Yard Waste, Report Litter on Private Land,  among other categories.\n",
    "\n",
    "19. SLA in Hours - This is the limit assigned by the City of Syracuse, that puts a limit on how long a request can stay in the list of tasks untouched. That amount of time, in hours, SeeClickFix will forward the request to the department head as well as an administrator to help ensure that requests are addressed in a timely manner.\n",
    "\n",
    "20. Report Source - How this service request was obtained: Either Web-Mobile, iPhone, Portal, Web-Desktop, Android, or Request Form.*"
   ]
  },
  {
   "cell_type": "markdown",
   "id": "d8f4520e-cc8f-42aa-be50-bfc1677d5d51",
   "metadata": {
    "tags": []
   },
   "source": [
    "### IMPORTING LIBRARIES"
   ]
  },
  {
   "cell_type": "code",
   "execution_count": 35,
   "id": "15254319-9fb1-4775-98d8-36060308eab1",
   "metadata": {
    "tags": []
   },
   "outputs": [],
   "source": [
    "import pandas as pd\n",
    "import numpy as np\n",
    "import matplotlib.pyplot as plt\n"
   ]
  },
  {
   "cell_type": "markdown",
   "id": "e486d4b5-fa14-4a38-bcff-7c1169873f1d",
   "metadata": {
    "tags": []
   },
   "source": [
    "### UPLOAD AND VIEW DATASET"
   ]
  },
  {
   "cell_type": "code",
   "execution_count": 36,
   "id": "fe8e6a65-d631-49a2-8c37-0f96baa1d629",
   "metadata": {
    "tags": []
   },
   "outputs": [],
   "source": [
    "#Upload csv dataset\n",
    "\n",
    "filepath = \"SYRCityline_Requests_(2021-Present).csv\"\n",
    "cityline_original=pd.read_csv(filepath)"
   ]
  },
  {
   "cell_type": "code",
   "execution_count": 37,
   "id": "546c0236-9de2-4011-ad90-9ed85b2d232c",
   "metadata": {
    "tags": []
   },
   "outputs": [
    {
     "data": {
      "text/plain": [
       "(68505, 23)"
      ]
     },
     "execution_count": 37,
     "metadata": {},
     "output_type": "execute_result"
    }
   ],
   "source": [
    "#Quick look at dataset size: There are 23 columns and 68,505 rows.\n",
    "\n",
    "cityline_original.shape"
   ]
  },
  {
   "cell_type": "code",
   "execution_count": 38,
   "id": "0c2bfcb3-1863-44a7-bb2b-d07c92801045",
   "metadata": {
    "tags": []
   },
   "outputs": [
    {
     "name": "stdout",
     "output_type": "stream",
     "text": [
      "<class 'pandas.core.frame.DataFrame'>\n",
      "RangeIndex: 68505 entries, 0 to 68504\n",
      "Data columns (total 23 columns):\n",
      " #   Column                   Non-Null Count  Dtype  \n",
      "---  ------                   --------------  -----  \n",
      " 0   X                        68429 non-null  float64\n",
      " 1   Y                        68429 non-null  float64\n",
      " 2   Id                       68505 non-null  int64  \n",
      " 3   Summary                  68505 non-null  object \n",
      " 4   Rating                   68505 non-null  int64  \n",
      " 5   Address                  68429 non-null  object \n",
      " 6   Description              58300 non-null  object \n",
      " 7   Agency_Name              68505 non-null  object \n",
      " 8   Request_type             68505 non-null  int64  \n",
      " 9   URL                      68505 non-null  object \n",
      " 10  Lat                      68429 non-null  float64\n",
      " 11  Lng                      68429 non-null  float64\n",
      " 12  Export_tagged_places     68429 non-null  object \n",
      " 13  Created_at_local         68505 non-null  object \n",
      " 14  Acknowledged_at_local    12406 non-null  object \n",
      " 15  Closed_at_local          67951 non-null  object \n",
      " 16  Minutes_to_acknowledged  12406 non-null  float64\n",
      " 17  Minutes_to_closed        67915 non-null  float64\n",
      " 18  Assignee_name            47118 non-null  object \n",
      " 19  Category                 68505 non-null  object \n",
      " 20  Sla_in_hours             68482 non-null  float64\n",
      " 21  Report_Source            68505 non-null  object \n",
      " 22  ObjectId                 68505 non-null  int64  \n",
      "dtypes: float64(7), int64(4), object(12)\n",
      "memory usage: 12.0+ MB\n"
     ]
    }
   ],
   "source": [
    "#Get a quick view of dataset info include names of each column, data types, and non-null count.\n",
    "\n",
    "cityline_original.info()"
   ]
  },
  {
   "cell_type": "markdown",
   "id": "564ad139-6a8a-4140-99a1-d93ee018cfd6",
   "metadata": {
    "tags": []
   },
   "source": [
    "### TRANSFORMING AND CLEANING OUR DATA"
   ]
  },
  {
   "cell_type": "markdown",
   "id": "eefc9bf8-8f37-45db-a48c-12c44f98415c",
   "metadata": {},
   "source": [
    "#### Transforming\n",
    "Our first step in working with the data is transforming all the dates in our dataset so we can use them for our analysis. We accomplished this using the to_datetime() function with our time variables ('Created_at_local','Closed_at_local' and Acknowledged_at_local'), which converted the date strings into the pandas standard datetime format ('YYYY-MM-DD HH:MM:SS - year, month, day, hours, minutes, seconds). Once converted, new columns were created with this new format ('Date_Subitted','Date_Resolved' and Acknowledge_Date'). The next step was to separate the date and time information into separate columns, which we accomplish by using the dt.time and dt.date functions.\n",
    "\n",
    "After transforming our data, we performed some basic math operations on the 'Sla_in_hours' and 'Minutes_to_closed\" columns to break them into our desired time measurements. We broke SLA into minutes and days, and the minutes to closed into hours. Additionally, we also used the np.where function and Boolean operators, which allowed us to create Y/N columns using specified conditions, from the SLA ('Sla_in_minutes'), Assigned ('Assignee_name'), and Acknowledged ('Date_Acknowledged') columns. Lastly, we created bins and labels, then used the .cut function to create a new column that categorizes the 'Days_to_closed' column by: *'Less Than a Day', 'A Few Days', 'One Week', 'Two Weeks', 'Three Weeks', 'Four Weeks', 'More than 30 Days'*.\n",
    "\n",
    "\n",
    "#### Cleaning\n",
    "After creating our columns, we created a new dataset from the original, pulling only the columns we would need for our analysis. Next, we dealt with our NAs. We decided to ignore the 21,387 and 56,099 NAs in the 'Assignee' and 'Acknowledged' columns as they would not impact our analysis and determined it would be most necessary to drop all NAs from:'Lat','Lng', 'Sla_in_minutes', 'Sla_in_hours', 'Sla_in_days' and 'Export_tagged_places.' These NAs would affect our analysis the most (we want to hone in on SLA) and luckily there weren't too many to remove. Next, we renamed values in the 'Export_tagged_places' column. Because the data in this column was so inconsistent, we used the .unique and .loc functions to identify all inconsistencies and to rename the values so that the column only consisted of the directionals: 'Northwest', 'Northeast', 'Southwest' and 'Southeast.' The 16 values that could not be updated into one of these categories, were marked as NAs and dropped. \n",
    "\n",
    "At the end of the transformation and clean up, we were left with 68,390 rows and 24 columns. \n",
    "\n"
   ]
  },
  {
   "cell_type": "markdown",
   "id": "723e46c8-5f14-46ed-8c74-b5b9f65da15a",
   "metadata": {
    "tags": []
   },
   "source": [
    "### TRANSFORMING THE DATA"
   ]
  },
  {
   "cell_type": "markdown",
   "id": "57b35674-5297-473c-9596-e3f2b3f1f428",
   "metadata": {},
   "source": [
    "**Splitting Date & TIme**"
   ]
  },
  {
   "cell_type": "code",
   "execution_count": 39,
   "id": "2c871c0b-b47b-4745-931c-6455807e2e31",
   "metadata": {
    "tags": []
   },
   "outputs": [],
   "source": [
    "#transform to date format\n",
    "\n",
    "cityline_original['Date_Submitted'] = pd.to_datetime(cityline_original['Created_at_local'])\n",
    "cityline_original['Date_Resolved'] = pd.to_datetime(cityline_original['Closed_at_local'])\n",
    "cityline_original['Acknowledge_Date'] = pd.to_datetime(cityline_original['Acknowledged_at_local'])\n",
    "\n",
    "#Splitting up the date/time data to create separate columns for date and time data\n",
    "\n",
    "#Split the Date_Submitted column\n",
    "cityline_original['Time_Submitted'] = cityline_original['Date_Submitted'].dt.time\n",
    "cityline_original['Date_Submitted'] = cityline_original['Date_Submitted'].dt.date\n",
    "\n",
    "#Split the Date_Resolved column\n",
    "cityline_original['Time_Resolved'] = cityline_original['Date_Resolved'].dt.time\n",
    "cityline_original['Date_Resolved'] = cityline_original['Date_Resolved'].dt.date\n",
    "\n",
    "#Split the Acknowledge_Date column\n",
    "cityline_original['Time_Acknowledged'] = cityline_original['Acknowledge_Date'].dt.time\n",
    "cityline_original['Date_Acknowledged'] = cityline_original['Acknowledge_Date'].dt.date\n"
   ]
  },
  {
   "cell_type": "markdown",
   "id": "a135264e-3807-4c46-8261-83297a77808f",
   "metadata": {},
   "source": [
    "**Adding New Columns**"
   ]
  },
  {
   "cell_type": "code",
   "execution_count": 40,
   "id": "97b57667-12b8-448a-ab7f-62a422c60daa",
   "metadata": {
    "tags": []
   },
   "outputs": [
    {
     "data": {
      "text/html": [
       "<div>\n",
       "<style scoped>\n",
       "    .dataframe tbody tr th:only-of-type {\n",
       "        vertical-align: middle;\n",
       "    }\n",
       "\n",
       "    .dataframe tbody tr th {\n",
       "        vertical-align: top;\n",
       "    }\n",
       "\n",
       "    .dataframe thead th {\n",
       "        text-align: right;\n",
       "    }\n",
       "</style>\n",
       "<table border=\"1\" class=\"dataframe\">\n",
       "  <thead>\n",
       "    <tr style=\"text-align: right;\">\n",
       "      <th></th>\n",
       "      <th>X</th>\n",
       "      <th>Y</th>\n",
       "      <th>Id</th>\n",
       "      <th>Summary</th>\n",
       "      <th>Rating</th>\n",
       "      <th>Address</th>\n",
       "      <th>Description</th>\n",
       "      <th>Agency_Name</th>\n",
       "      <th>Request_type</th>\n",
       "      <th>URL</th>\n",
       "      <th>...</th>\n",
       "      <th>Date_Acknowledged</th>\n",
       "      <th>Sla_in_minutes</th>\n",
       "      <th>Sla_in_days</th>\n",
       "      <th>Hours_to_closed</th>\n",
       "      <th>Days_to_closed</th>\n",
       "      <th>Sla_met</th>\n",
       "      <th>Assigned</th>\n",
       "      <th>Acknowledged</th>\n",
       "      <th>Month_Resolved</th>\n",
       "      <th>Closed_Category</th>\n",
       "    </tr>\n",
       "  </thead>\n",
       "  <tbody>\n",
       "    <tr>\n",
       "      <th>0</th>\n",
       "      <td>-8.472084e+06</td>\n",
       "      <td>5.318440e+06</td>\n",
       "      <td>10514161</td>\n",
       "      <td>Water-related Concerns</td>\n",
       "      <td>3</td>\n",
       "      <td>2838 E Genesee St Syracuse, NY, 13224, USA</td>\n",
       "      <td>cracked sewer line going from road to the hous...</td>\n",
       "      <td>Water &amp; Sewage</td>\n",
       "      <td>33849</td>\n",
       "      <td>https://crm.seeclickfix.com/#/organizations/15...</td>\n",
       "      <td>...</td>\n",
       "      <td>2021-07-30</td>\n",
       "      <td>1440.0</td>\n",
       "      <td>1.0</td>\n",
       "      <td>191.416667</td>\n",
       "      <td>7.975694</td>\n",
       "      <td>N</td>\n",
       "      <td>Y</td>\n",
       "      <td>Y</td>\n",
       "      <td>8.0</td>\n",
       "      <td>One Week</td>\n",
       "    </tr>\n",
       "    <tr>\n",
       "      <th>1</th>\n",
       "      <td>-8.476508e+06</td>\n",
       "      <td>5.314388e+06</td>\n",
       "      <td>10514193</td>\n",
       "      <td>Large or Bulk Items</td>\n",
       "      <td>2</td>\n",
       "      <td>218 W Calthrop Ave Syracuse, NY, 13205, USA</td>\n",
       "      <td>mattress</td>\n",
       "      <td>Garbage, Recycling &amp; Graffiti</td>\n",
       "      <td>33854</td>\n",
       "      <td>https://crm.seeclickfix.com/#/organizations/15...</td>\n",
       "      <td>...</td>\n",
       "      <td>NaT</td>\n",
       "      <td>2880.0</td>\n",
       "      <td>2.0</td>\n",
       "      <td>73.200000</td>\n",
       "      <td>3.050000</td>\n",
       "      <td>N</td>\n",
       "      <td>Y</td>\n",
       "      <td>N</td>\n",
       "      <td>7.0</td>\n",
       "      <td>A Few Days</td>\n",
       "    </tr>\n",
       "    <tr>\n",
       "      <th>2</th>\n",
       "      <td>-8.475602e+06</td>\n",
       "      <td>5.310706e+06</td>\n",
       "      <td>10514235</td>\n",
       "      <td>Roadkill</td>\n",
       "      <td>2</td>\n",
       "      <td>108 Windemere Rd Syracuse, NY, 13205, USA</td>\n",
       "      <td>ground hog</td>\n",
       "      <td>Animals</td>\n",
       "      <td>33845</td>\n",
       "      <td>https://crm.seeclickfix.com/#/organizations/15...</td>\n",
       "      <td>...</td>\n",
       "      <td>NaT</td>\n",
       "      <td>1440.0</td>\n",
       "      <td>1.0</td>\n",
       "      <td>20.500000</td>\n",
       "      <td>0.854167</td>\n",
       "      <td>Y</td>\n",
       "      <td>Y</td>\n",
       "      <td>N</td>\n",
       "      <td>7.0</td>\n",
       "      <td>Less Than a Day</td>\n",
       "    </tr>\n",
       "  </tbody>\n",
       "</table>\n",
       "<p>3 rows × 39 columns</p>\n",
       "</div>"
      ],
      "text/plain": [
       "              X             Y        Id                 Summary  Rating  \\\n",
       "0 -8.472084e+06  5.318440e+06  10514161  Water-related Concerns       3   \n",
       "1 -8.476508e+06  5.314388e+06  10514193     Large or Bulk Items       2   \n",
       "2 -8.475602e+06  5.310706e+06  10514235                Roadkill       2   \n",
       "\n",
       "                                       Address  \\\n",
       "0   2838 E Genesee St Syracuse, NY, 13224, USA   \n",
       "1  218 W Calthrop Ave Syracuse, NY, 13205, USA   \n",
       "2    108 Windemere Rd Syracuse, NY, 13205, USA   \n",
       "\n",
       "                                         Description  \\\n",
       "0  cracked sewer line going from road to the hous...   \n",
       "1                                           mattress   \n",
       "2                                         ground hog   \n",
       "\n",
       "                     Agency_Name  Request_type  \\\n",
       "0                 Water & Sewage         33849   \n",
       "1  Garbage, Recycling & Graffiti         33854   \n",
       "2                        Animals         33845   \n",
       "\n",
       "                                                 URL  ...  Date_Acknowledged  \\\n",
       "0  https://crm.seeclickfix.com/#/organizations/15...  ...         2021-07-30   \n",
       "1  https://crm.seeclickfix.com/#/organizations/15...  ...                NaT   \n",
       "2  https://crm.seeclickfix.com/#/organizations/15...  ...                NaT   \n",
       "\n",
       "   Sla_in_minutes Sla_in_days Hours_to_closed Days_to_closed Sla_met  \\\n",
       "0          1440.0         1.0      191.416667       7.975694       N   \n",
       "1          2880.0         2.0       73.200000       3.050000       N   \n",
       "2          1440.0         1.0       20.500000       0.854167       Y   \n",
       "\n",
       "   Assigned  Acknowledged Month_Resolved  Closed_Category  \n",
       "0         Y             Y            8.0         One Week  \n",
       "1         Y             N            7.0       A Few Days  \n",
       "2         Y             N            7.0  Less Than a Day  \n",
       "\n",
       "[3 rows x 39 columns]"
      ]
     },
     "execution_count": 40,
     "metadata": {},
     "output_type": "execute_result"
    }
   ],
   "source": [
    "#Add column with SLA to minutes\n",
    "cityline_original['Sla_in_minutes'] = cityline_original['Sla_in_hours'] * 60 #Create a new column where SLA is broken down into minutes, not hours\n",
    "\n",
    "#add new column for SLA to days\n",
    "cityline_original['Sla_in_days'] = cityline_original['Sla_in_hours'] / 24 #Create a new column where SLA is broken down into days, not hours\n",
    "\n",
    "#add new column time to closed to hours\n",
    "cityline_original['Hours_to_closed'] = cityline_original['Minutes_to_closed'] / 60 #Create a new column where closed time broken down into hours, not minutes\n",
    "\n",
    "#Add new columns time to closed to days\n",
    "cityline_original['Days_to_closed'] = cityline_original['Hours_to_closed'] / 24 #Create a new column where closed time broken down into days, not minutes\n",
    "\n",
    "#Add new column named \"Met SLA Requirements \"\n",
    "cityline_original['Sla_met'] = np.where(cityline_original['Sla_in_minutes'] > cityline_original['Minutes_to_closed'], \"Y\", \"N\") #this code marks \"Y\" or \"N\" on whether sla was met\n",
    "\n",
    "#Add new column whether task was assigned\"\n",
    "cityline_original['Assigned'] = np.where(cityline_original['Assignee_name'].isnull(), \"N\", \"Y\") #this code marks \"Y\" or \"N\" on whether task was assigned\n",
    "\n",
    "#Add new column whether task was acknowledged\"\n",
    "cityline_original['Acknowledged'] = np.where(cityline_original['Date_Acknowledged'].isnull(), \"N\", \"Y\") #this code marks \"Y\" or \"N\" on whether task was acknowledged\n",
    "\n",
    "#Adding Column for Month\n",
    "cityline_original['Date_Resolved'] = pd.to_datetime(cityline_original['Date_Resolved'])\n",
    "cityline_original['Month_Resolved'] = cityline_original['Date_Resolved'].dt.month\n",
    "\n",
    "\n",
    "#CREATE BIN GROUPS: Creating bins/labels for set time periods\n",
    "bins = [-1, 1, 4, 8, 15, 22, 31, float('inf')]\n",
    "labels = ['Less Than a Day', 'A Few Days', 'One Week', 'Two Weeks', 'Three Weeks', 'Four Weeks', 'More than 30 Days']\n",
    "\n",
    "values = cityline_original.Days_to_closed\n",
    "cityline_original['Closed_Category'] = pd.cut(values, bins=bins, labels=labels)\n",
    "\n",
    "cityline_original.head(3)"
   ]
  },
  {
   "cell_type": "markdown",
   "id": "7691db54-f60a-4ece-91f0-db16a9ec2083",
   "metadata": {
    "tags": []
   },
   "source": [
    "### CLEANING THE DATA"
   ]
  },
  {
   "cell_type": "markdown",
   "id": "ca1ee092-789c-407d-9fd0-091aa1f3d7be",
   "metadata": {},
   "source": [
    "**PULLING ONLY THE COLUMS THAT WE NEED AND OMITTING THE REST**"
   ]
  },
  {
   "cell_type": "code",
   "execution_count": 41,
   "id": "88116b46-b3ac-448b-b582-666ca39764be",
   "metadata": {
    "tags": []
   },
   "outputs": [],
   "source": [
    "#Use copy to create new dataframe containing only the columns we plan to use\n",
    "cityline = cityline_original[['Lat','Lng','Summary','Agency_Name','Assignee_name','Assigned','Report_Source','Export_tagged_places','Date_Submitted', 'Time_Submitted','Acknowledged','Date_Acknowledged','Time_Acknowledged','Date_Resolved', 'Time_Resolved',\n",
    "                              'Minutes_to_acknowledged','Minutes_to_closed','Sla_in_minutes','Hours_to_closed','Days_to_closed','Closed_Category','Sla_in_days','Sla_met','Sla_in_hours']]\n",
    "\n",
    "\n",
    "#Create a copy of the dataframe\n",
    "cityline = cityline.copy()"
   ]
  },
  {
   "cell_type": "markdown",
   "id": "06126e6a-b5a0-439c-9c0d-eefefeaf8740",
   "metadata": {},
   "source": [
    "**DEALING WITH NAs/MISSING DATA**"
   ]
  },
  {
   "cell_type": "code",
   "execution_count": 42,
   "id": "75d8fe6c-e645-43eb-bd3f-6b84a6b0dbdb",
   "metadata": {
    "tags": []
   },
   "outputs": [
    {
     "data": {
      "text/plain": [
       "Lat                           76\n",
       "Lng                           76\n",
       "Summary                        0\n",
       "Agency_Name                    0\n",
       "Assignee_name              21387\n",
       "Assigned                       0\n",
       "Report_Source                  0\n",
       "Export_tagged_places          76\n",
       "Date_Submitted                 0\n",
       "Time_Submitted                 0\n",
       "Acknowledged                   0\n",
       "Date_Acknowledged          56099\n",
       "Time_Acknowledged          56099\n",
       "Date_Resolved                554\n",
       "Time_Resolved                554\n",
       "Minutes_to_acknowledged    56099\n",
       "Minutes_to_closed            590\n",
       "Sla_in_minutes                23\n",
       "Hours_to_closed              590\n",
       "Days_to_closed               590\n",
       "Closed_Category              590\n",
       "Sla_in_days                   23\n",
       "Sla_met                        0\n",
       "Sla_in_hours                  23\n",
       "dtype: int64"
      ]
     },
     "execution_count": 42,
     "metadata": {},
     "output_type": "execute_result"
    }
   ],
   "source": [
    "#Checking dataset for missing data. isnull() + sum(), gives us a total count of NAs in our dataset per column.\n",
    "cityline.isnull().sum()"
   ]
  },
  {
   "cell_type": "code",
   "execution_count": 43,
   "id": "04756484-d604-4f89-9363-d433210e9a3e",
   "metadata": {
    "tags": []
   },
   "outputs": [],
   "source": [
    "#Drop NAs for Lat, Lng, Sla & Export_tagged_places, Sla_in_hours & sla_in_days:\n",
    "\n",
    "cityline.dropna(subset=['Lat','Lng', 'Sla_in_minutes','Sla_in_hours','Sla_in_days','Export_tagged_places'], inplace=True)\n",
    "\n",
    "#WE CHOSE TO KEEP NAs FROMTHE FOLLOWING COLUMNS - NAs do not matter in these columns and therefore do not need to be removed\n",
    "#Assignee_name\n",
    "#Date Acknowledged \n",
    "#Time Acknowledged \n",
    "#Time_Resolved\n",
    "#Date_Resolved \n",
    "#Minutes to Acknowledged\n",
    "#Minutes to closed\n",
    "#Hours to closed\n",
    "#Days to closed\n",
    "#Closed Category"
   ]
  },
  {
   "cell_type": "code",
   "execution_count": 44,
   "id": "dec551ce-a1b1-4d9b-b0a6-df20541ba812",
   "metadata": {
    "tags": []
   },
   "outputs": [
    {
     "data": {
      "text/plain": [
       "Lat                            0\n",
       "Lng                            0\n",
       "Summary                        0\n",
       "Agency_Name                    0\n",
       "Assignee_name              21372\n",
       "Assigned                       0\n",
       "Report_Source                  0\n",
       "Export_tagged_places           0\n",
       "Date_Submitted                 0\n",
       "Time_Submitted                 0\n",
       "Acknowledged                   0\n",
       "Date_Acknowledged          56046\n",
       "Time_Acknowledged          56046\n",
       "Date_Resolved                543\n",
       "Time_Resolved                543\n",
       "Minutes_to_acknowledged    56046\n",
       "Minutes_to_closed            578\n",
       "Sla_in_minutes                 0\n",
       "Hours_to_closed              578\n",
       "Days_to_closed               578\n",
       "Closed_Category              578\n",
       "Sla_in_days                    0\n",
       "Sla_met                        0\n",
       "Sla_in_hours                   0\n",
       "dtype: int64"
      ]
     },
     "execution_count": 44,
     "metadata": {},
     "output_type": "execute_result"
    }
   ],
   "source": [
    "#Verify that nulls have been dropped\n",
    "cityline.isnull().sum()"
   ]
  },
  {
   "cell_type": "markdown",
   "id": "d634e19e-d635-4a18-ab05-f9f2ad0bd4e5",
   "metadata": {},
   "source": [
    "**RENAMING VALUES WITHIN 'EXPORT_TAGGED_PLACES'**"
   ]
  },
  {
   "cell_type": "code",
   "execution_count": 45,
   "id": "b359cdb0-8d5c-4003-b6da-f4e4cd2fd5cb",
   "metadata": {
    "tags": []
   },
   "outputs": [
    {
     "data": {
      "text/plain": [
       "array([\"Southeast Quadrant,Syracuse,Syracuse Boundary(don't use this)\",\n",
       "       \"Southwest Quadrant,Syracuse,Syracuse Boundary(don't use this)\",\n",
       "       \"Northeast Quadrant,Syracuse,Syracuse Boundary(don't use this)\",\n",
       "       \"Northwest Quadrant,Syracuse,Syracuse Boundary(don't use this)\",\n",
       "       \"Syracuse Boundary(don't use this)\",\n",
       "       \"Syracuse,Syracuse Boundary(don't use this)\",\n",
       "       \"Southwest Quadrant,Syracuse Boundary(don't use this)\",\n",
       "       'Southeast Quadrant',\n",
       "       \"Northeast Quadrant,Syracuse Boundary(don't use this)\",\n",
       "       \"Southeast Quadrant,Syracuse Boundary(don't use this)\",\n",
       "       \"Northwest Quadrant,Syracuse Boundary(don't use this)\"],\n",
       "      dtype=object)"
      ]
     },
     "execution_count": 45,
     "metadata": {},
     "output_type": "execute_result"
    }
   ],
   "source": [
    "#View all unique data in \"Export tagged places\" column\n",
    "cityline.Export_tagged_places.unique()"
   ]
  },
  {
   "cell_type": "code",
   "execution_count": 46,
   "id": "dfd10c39-ed81-4836-8931-3e6cca97c3d4",
   "metadata": {
    "tags": []
   },
   "outputs": [],
   "source": [
    "#Rename values that are the so data is uniform. This column should only consist of the Northwest, Northeast, Southwest, and Southeast.\n",
    "#Any data that does not match will be updated, that way counts can be run correctly\n",
    "#In our code be low, we are search for key words using str.contains, and renaming them appropriately. \n",
    "\n",
    "cityline.loc[cityline['Export_tagged_places'].str.contains('Northwest'), 'Export_tagged_places'] = 'Northwest' \n",
    "cityline.loc[cityline['Export_tagged_places'].str.contains('Northeast'), 'Export_tagged_places'] = 'Northeast'\n",
    "\n",
    "cityline.loc[cityline['Export_tagged_places'].str.contains('Southeast'), 'Export_tagged_places'] = 'Southeast'\n",
    "cityline.loc[cityline['Export_tagged_places'].str.contains('Southwest'), 'Export_tagged_places'] = 'Southwest'\n",
    "\n",
    "\n",
    "#As seen above, we have data that says \"Syracuse Boundary\" and \"Syracuse,Syracuse\", we are unsure how to categorize, so we will mark these as NAs\n",
    "cityline.loc[cityline['Export_tagged_places'].str.contains('Syracuse'), 'Export_tagged_places'] = np.nan "
   ]
  },
  {
   "cell_type": "code",
   "execution_count": 47,
   "id": "5786f045-3b27-4abf-abb8-d992d6a1b091",
   "metadata": {
    "tags": []
   },
   "outputs": [
    {
     "data": {
      "text/plain": [
       "16"
      ]
     },
     "execution_count": 47,
     "metadata": {},
     "output_type": "execute_result"
    }
   ],
   "source": [
    "#There are 16 rows we were unable to categorize\n",
    "cityline.Export_tagged_places.isnull().sum()"
   ]
  },
  {
   "cell_type": "code",
   "execution_count": 48,
   "id": "e94e84f7-53cd-41e7-a527-34045cab1cca",
   "metadata": {
    "tags": []
   },
   "outputs": [
    {
     "data": {
      "text/html": [
       "<div>\n",
       "<style scoped>\n",
       "    .dataframe tbody tr th:only-of-type {\n",
       "        vertical-align: middle;\n",
       "    }\n",
       "\n",
       "    .dataframe tbody tr th {\n",
       "        vertical-align: top;\n",
       "    }\n",
       "\n",
       "    .dataframe thead th {\n",
       "        text-align: right;\n",
       "    }\n",
       "</style>\n",
       "<table border=\"1\" class=\"dataframe\">\n",
       "  <thead>\n",
       "    <tr style=\"text-align: right;\">\n",
       "      <th></th>\n",
       "      <th>Lat</th>\n",
       "      <th>Lng</th>\n",
       "      <th>Summary</th>\n",
       "      <th>Agency_Name</th>\n",
       "      <th>Assignee_name</th>\n",
       "      <th>Assigned</th>\n",
       "      <th>Report_Source</th>\n",
       "      <th>Export_tagged_places</th>\n",
       "      <th>Date_Submitted</th>\n",
       "      <th>Time_Submitted</th>\n",
       "      <th>...</th>\n",
       "      <th>Time_Resolved</th>\n",
       "      <th>Minutes_to_acknowledged</th>\n",
       "      <th>Minutes_to_closed</th>\n",
       "      <th>Sla_in_minutes</th>\n",
       "      <th>Hours_to_closed</th>\n",
       "      <th>Days_to_closed</th>\n",
       "      <th>Closed_Category</th>\n",
       "      <th>Sla_in_days</th>\n",
       "      <th>Sla_met</th>\n",
       "      <th>Sla_in_hours</th>\n",
       "    </tr>\n",
       "  </thead>\n",
       "  <tbody>\n",
       "    <tr>\n",
       "      <th>0</th>\n",
       "      <td>43.042478</td>\n",
       "      <td>-76.106022</td>\n",
       "      <td>Water-related Concerns</td>\n",
       "      <td>Water &amp; Sewage</td>\n",
       "      <td>Superintendent of Sewers</td>\n",
       "      <td>Y</td>\n",
       "      <td>Request Form</td>\n",
       "      <td>Southeast</td>\n",
       "      <td>2021-07-27</td>\n",
       "      <td>11:30:00</td>\n",
       "      <td>...</td>\n",
       "      <td>10:55:00</td>\n",
       "      <td>4369.0</td>\n",
       "      <td>11485.0</td>\n",
       "      <td>1440.0</td>\n",
       "      <td>191.416667</td>\n",
       "      <td>7.975694</td>\n",
       "      <td>One Week</td>\n",
       "      <td>1.0</td>\n",
       "      <td>N</td>\n",
       "      <td>24.0</td>\n",
       "    </tr>\n",
       "    <tr>\n",
       "      <th>1</th>\n",
       "      <td>43.015874</td>\n",
       "      <td>-76.145769</td>\n",
       "      <td>Large or Bulk Items</td>\n",
       "      <td>Garbage, Recycling &amp; Graffiti</td>\n",
       "      <td>Sanitation_KT</td>\n",
       "      <td>Y</td>\n",
       "      <td>Request Form</td>\n",
       "      <td>Southwest</td>\n",
       "      <td>2021-07-27</td>\n",
       "      <td>11:33:00</td>\n",
       "      <td>...</td>\n",
       "      <td>12:46:00</td>\n",
       "      <td>NaN</td>\n",
       "      <td>4392.0</td>\n",
       "      <td>2880.0</td>\n",
       "      <td>73.200000</td>\n",
       "      <td>3.050000</td>\n",
       "      <td>A Few Days</td>\n",
       "      <td>2.0</td>\n",
       "      <td>N</td>\n",
       "      <td>48.0</td>\n",
       "    </tr>\n",
       "    <tr>\n",
       "      <th>2</th>\n",
       "      <td>42.991685</td>\n",
       "      <td>-76.137628</td>\n",
       "      <td>Roadkill</td>\n",
       "      <td>Animals</td>\n",
       "      <td>Superintendent of Street Cleaning</td>\n",
       "      <td>Y</td>\n",
       "      <td>Request Form</td>\n",
       "      <td>Southeast</td>\n",
       "      <td>2021-07-27</td>\n",
       "      <td>11:39:00</td>\n",
       "      <td>...</td>\n",
       "      <td>08:10:00</td>\n",
       "      <td>NaN</td>\n",
       "      <td>1230.0</td>\n",
       "      <td>1440.0</td>\n",
       "      <td>20.500000</td>\n",
       "      <td>0.854167</td>\n",
       "      <td>Less Than a Day</td>\n",
       "      <td>1.0</td>\n",
       "      <td>Y</td>\n",
       "      <td>24.0</td>\n",
       "    </tr>\n",
       "    <tr>\n",
       "      <th>3</th>\n",
       "      <td>43.037208</td>\n",
       "      <td>-76.124196</td>\n",
       "      <td>Large or Bulk Items</td>\n",
       "      <td>Garbage, Recycling &amp; Graffiti</td>\n",
       "      <td>NaN</td>\n",
       "      <td>N</td>\n",
       "      <td>Request Form</td>\n",
       "      <td>Southeast</td>\n",
       "      <td>2021-07-27</td>\n",
       "      <td>11:41:00</td>\n",
       "      <td>...</td>\n",
       "      <td>14:22:00</td>\n",
       "      <td>NaN</td>\n",
       "      <td>31840.0</td>\n",
       "      <td>2880.0</td>\n",
       "      <td>530.666667</td>\n",
       "      <td>22.111111</td>\n",
       "      <td>Four Weeks</td>\n",
       "      <td>2.0</td>\n",
       "      <td>N</td>\n",
       "      <td>48.0</td>\n",
       "    </tr>\n",
       "    <tr>\n",
       "      <th>4</th>\n",
       "      <td>43.037208</td>\n",
       "      <td>-76.124196</td>\n",
       "      <td>Construction Debris</td>\n",
       "      <td>Garbage, Recycling &amp; Graffiti</td>\n",
       "      <td>Superintendent of Street Cleaning</td>\n",
       "      <td>Y</td>\n",
       "      <td>Request Form</td>\n",
       "      <td>Southeast</td>\n",
       "      <td>2021-07-27</td>\n",
       "      <td>11:43:00</td>\n",
       "      <td>...</td>\n",
       "      <td>09:26:00</td>\n",
       "      <td>2860.0</td>\n",
       "      <td>30103.0</td>\n",
       "      <td>5760.0</td>\n",
       "      <td>501.716667</td>\n",
       "      <td>20.904861</td>\n",
       "      <td>Three Weeks</td>\n",
       "      <td>4.0</td>\n",
       "      <td>N</td>\n",
       "      <td>96.0</td>\n",
       "    </tr>\n",
       "  </tbody>\n",
       "</table>\n",
       "<p>5 rows × 24 columns</p>\n",
       "</div>"
      ],
      "text/plain": [
       "         Lat        Lng                 Summary  \\\n",
       "0  43.042478 -76.106022  Water-related Concerns   \n",
       "1  43.015874 -76.145769     Large or Bulk Items   \n",
       "2  42.991685 -76.137628                Roadkill   \n",
       "3  43.037208 -76.124196     Large or Bulk Items   \n",
       "4  43.037208 -76.124196     Construction Debris   \n",
       "\n",
       "                     Agency_Name                      Assignee_name Assigned  \\\n",
       "0                 Water & Sewage           Superintendent of Sewers        Y   \n",
       "1  Garbage, Recycling & Graffiti                      Sanitation_KT        Y   \n",
       "2                        Animals  Superintendent of Street Cleaning        Y   \n",
       "3  Garbage, Recycling & Graffiti                                NaN        N   \n",
       "4  Garbage, Recycling & Graffiti  Superintendent of Street Cleaning        Y   \n",
       "\n",
       "  Report_Source Export_tagged_places Date_Submitted Time_Submitted  ...  \\\n",
       "0  Request Form            Southeast     2021-07-27       11:30:00  ...   \n",
       "1  Request Form            Southwest     2021-07-27       11:33:00  ...   \n",
       "2  Request Form            Southeast     2021-07-27       11:39:00  ...   \n",
       "3  Request Form            Southeast     2021-07-27       11:41:00  ...   \n",
       "4  Request Form            Southeast     2021-07-27       11:43:00  ...   \n",
       "\n",
       "  Time_Resolved Minutes_to_acknowledged Minutes_to_closed Sla_in_minutes  \\\n",
       "0      10:55:00                  4369.0           11485.0         1440.0   \n",
       "1      12:46:00                     NaN            4392.0         2880.0   \n",
       "2      08:10:00                     NaN            1230.0         1440.0   \n",
       "3      14:22:00                     NaN           31840.0         2880.0   \n",
       "4      09:26:00                  2860.0           30103.0         5760.0   \n",
       "\n",
       "  Hours_to_closed  Days_to_closed  Closed_Category  Sla_in_days  Sla_met  \\\n",
       "0      191.416667        7.975694         One Week          1.0        N   \n",
       "1       73.200000        3.050000       A Few Days          2.0        N   \n",
       "2       20.500000        0.854167  Less Than a Day          1.0        Y   \n",
       "3      530.666667       22.111111       Four Weeks          2.0        N   \n",
       "4      501.716667       20.904861      Three Weeks          4.0        N   \n",
       "\n",
       "   Sla_in_hours  \n",
       "0          24.0  \n",
       "1          48.0  \n",
       "2          24.0  \n",
       "3          48.0  \n",
       "4          96.0  \n",
       "\n",
       "[5 rows x 24 columns]"
      ]
     },
     "execution_count": 48,
     "metadata": {},
     "output_type": "execute_result"
    }
   ],
   "source": [
    "#Quick view of our data\n",
    "cityline.head()"
   ]
  },
  {
   "cell_type": "code",
   "execution_count": 49,
   "id": "7ddaee63-b0e1-4667-aa81-81f67038ccdb",
   "metadata": {
    "tags": []
   },
   "outputs": [
    {
     "data": {
      "text/plain": [
       "0"
      ]
     },
     "execution_count": 49,
     "metadata": {},
     "output_type": "execute_result"
    }
   ],
   "source": [
    "#Remove the NAs we created above from Export_tagged_places\n",
    "cityline.dropna(subset=['Export_tagged_places'], inplace=True)\n",
    "\n",
    "#Review to make sure NAs are gone\n",
    "cityline.Export_tagged_places.isnull().sum()"
   ]
  },
  {
   "cell_type": "code",
   "execution_count": 50,
   "id": "72f214f9-96bc-4504-903c-b29ce0be924c",
   "metadata": {
    "tags": []
   },
   "outputs": [
    {
     "data": {
      "text/plain": [
       "(68390, 24)"
      ]
     },
     "execution_count": 50,
     "metadata": {},
     "output_type": "execute_result"
    }
   ],
   "source": [
    "#Lets review our new shape\n",
    "cityline.shape"
   ]
  },
  {
   "cell_type": "code",
   "execution_count": 51,
   "id": "56619859-27f0-4db1-9fcc-1648e7154983",
   "metadata": {
    "tags": []
   },
   "outputs": [
    {
     "name": "stdout",
     "output_type": "stream",
     "text": [
      "<class 'pandas.core.frame.DataFrame'>\n",
      "Index: 68390 entries, 0 to 68504\n",
      "Data columns (total 24 columns):\n",
      " #   Column                   Non-Null Count  Dtype         \n",
      "---  ------                   --------------  -----         \n",
      " 0   Lat                      68390 non-null  float64       \n",
      " 1   Lng                      68390 non-null  float64       \n",
      " 2   Summary                  68390 non-null  object        \n",
      " 3   Agency_Name              68390 non-null  object        \n",
      " 4   Assignee_name            47024 non-null  object        \n",
      " 5   Assigned                 68390 non-null  object        \n",
      " 6   Report_Source            68390 non-null  object        \n",
      " 7   Export_tagged_places     68390 non-null  object        \n",
      " 8   Date_Submitted           68390 non-null  object        \n",
      " 9   Time_Submitted           68390 non-null  object        \n",
      " 10  Acknowledged             68390 non-null  object        \n",
      " 11  Date_Acknowledged        12359 non-null  object        \n",
      " 12  Time_Acknowledged        12359 non-null  object        \n",
      " 13  Date_Resolved            67847 non-null  datetime64[ns]\n",
      " 14  Time_Resolved            67847 non-null  object        \n",
      " 15  Minutes_to_acknowledged  12359 non-null  float64       \n",
      " 16  Minutes_to_closed        67812 non-null  float64       \n",
      " 17  Sla_in_minutes           68390 non-null  float64       \n",
      " 18  Hours_to_closed          67812 non-null  float64       \n",
      " 19  Days_to_closed           67812 non-null  float64       \n",
      " 20  Closed_Category          67812 non-null  category      \n",
      " 21  Sla_in_days              68390 non-null  float64       \n",
      " 22  Sla_met                  68390 non-null  object        \n",
      " 23  Sla_in_hours             68390 non-null  float64       \n",
      "dtypes: category(1), datetime64[ns](1), float64(9), object(13)\n",
      "memory usage: 12.6+ MB\n"
     ]
    }
   ],
   "source": [
    "cityline.info()"
   ]
  },
  {
   "cell_type": "markdown",
   "id": "e72856f8-7fa4-4840-a37c-b25b5391d4bf",
   "metadata": {},
   "source": [
    "**FINDING THE EARLIEST AND LATEST DATES IN OUR DATASET?**"
   ]
  },
  {
   "cell_type": "code",
   "execution_count": 53,
   "id": "619b8dd0-02c3-413e-ac00-9f52c763d2c0",
   "metadata": {
    "tags": []
   },
   "outputs": [
    {
     "name": "stdout",
     "output_type": "stream",
     "text": [
      "Earliest Date: 2021-06-15 00:00:00\n",
      "Latest Date: 2023-08-15 00:00:00\n"
     ]
    }
   ],
   "source": [
    "# Checking for min and max dates in our data set\n",
    "#Convert the \"Date Submitted\" column into pandas datetime format and assign it to \"date\"\n",
    "date = pd.to_datetime(cityline['Date_Submitted'], format='%Y-%m-%d')\n",
    "\n",
    "#Pull earliest and latest dates using .min and .max\n",
    "earliest_date = date.min()\n",
    "latest_date =date.max()\n",
    "\n",
    "print(\"Earliest Date:\",earliest_date) #June 2023\n",
    "print(\"Latest Date:\",latest_date) #Aug 2023"
   ]
  },
  {
   "cell_type": "markdown",
   "id": "c4590c6f-bdd8-4359-a848-cea99f572054",
   "metadata": {},
   "source": [
    "**FILTERING OUT DATASETS BASED ON YEAR: Creating 2022 & 2023 Datasets**  \n"
   ]
  },
  {
   "cell_type": "code",
   "execution_count": 73,
   "id": "b9292c1d-61f1-4956-84c7-7621589cb2f5",
   "metadata": {
    "tags": []
   },
   "outputs": [],
   "source": [
    "# Convert the 'Date' column to datetime format\n",
    "cityline['Date_Submitted'] = pd.to_datetime(cityline['Date_Submitted'], format='%Y-%m-%d')\n",
    "\n",
    "#Filter to only keep data from Jan 2022 - June 2023\n",
    "cityline = cityline.loc[(cityline['Date_Submitted'] >= '2022-01-01')\n",
    "                     & (cityline['Date_Submitted'] <= '2023-06-30')]\n",
    "\n",
    "cityline22 = cityline.loc[(cityline['Date_Submitted'] >= '2022-01-01')\n",
    "                     & (cityline['Date_Submitted'] < '2023-01-01')]\n",
    "\n",
    "cityline23 = cityline.loc[(cityline['Date_Submitted'] > '2022-12-31')\n",
    "                     & (cityline['Date_Submitted'] <= '2023-06-30')]"
   ]
  },
  {
   "cell_type": "code",
   "execution_count": 81,
   "id": "bf1db7d0-9b6f-4bb1-a7c5-85628822d916",
   "metadata": {
    "tags": []
   },
   "outputs": [
    {
     "data": {
      "text/plain": [
       "(32103, 24)"
      ]
     },
     "execution_count": 81,
     "metadata": {},
     "output_type": "execute_result"
    }
   ],
   "source": [
    "cityline22.shape"
   ]
  },
  {
   "cell_type": "code",
   "execution_count": 80,
   "id": "b58127eb-8a57-4dc7-a43c-d315c4c631d6",
   "metadata": {
    "tags": []
   },
   "outputs": [
    {
     "data": {
      "text/plain": [
       "(16411, 24)"
      ]
     },
     "execution_count": 80,
     "metadata": {},
     "output_type": "execute_result"
    }
   ],
   "source": [
    "cityline23.shape"
   ]
  },
  {
   "cell_type": "code",
   "execution_count": 83,
   "id": "03fb3576-40d1-462c-ac2f-1a3a43cefcb3",
   "metadata": {
    "tags": []
   },
   "outputs": [
    {
     "name": "stdout",
     "output_type": "stream",
     "text": [
      "Earliest Date: 2023-01-01 00:00:00\n",
      "Latest Date: 2023-06-30 00:00:00\n"
     ]
    }
   ],
   "source": [
    "date23 = pd.to_datetime(cityline23['Date_Submitted'], format='%Y-%m-%d')\n",
    "#Pull earliest and latest dates using .min and .max\n",
    "earliest_date23 = date23.min()\n",
    "latest_date23 =date23.max()\n",
    "\n",
    "print(\"Earliest Date:\",earliest_date23) #June 2023\n",
    "print(\"Latest Date:\",latest_date23) #Aug 2023"
   ]
  },
  {
   "cell_type": "markdown",
   "id": "b43143b1-ebe0-4460-a00a-107ec0563f83",
   "metadata": {},
   "source": [
    "### EXPLORATORY"
   ]
  },
  {
   "cell_type": "markdown",
   "id": "ea09df72-14e6-47ca-a7a1-c71c124bb224",
   "metadata": {},
   "source": [
    "## ANALYSIS"
   ]
  },
  {
   "cell_type": "markdown",
   "id": "0c5d8ed7-5ba6-4cb6-b79f-4dd86c0f3710",
   "metadata": {},
   "source": [
    "Before diving into our analysis, we created 3 new datasets based on dates. We chose to omit all 2021 dates, because data collection began halfway through 2021 (in June). We kept all 2022 and 2023 data because these years had data from all or most of the year.\n",
    "\n",
    "\n",
    "2022 - used for model to predict 202, also only data with full year\n",
    "2023 - just for charts and to compare with model\n",
    "2022/2023 - not sure yet\n",
    "\n",
    "**1. Is the city reponding to service requests in a timely manner?**\n",
    "(SLA focused, overall and agency breakdown *note:\n",
    "- most getting acknowledged in a timely mannner. \n",
    "- any agencies worse than others? \n",
    "- SLA impacts overall resolution times (correlation chart?)\n",
    "    \n",
    "For our first graph, we looked at the SLA ratios for 2022 (cityline22) and 2023 (cityline23). The city of Syracuse assignes a limit on how long requests can stay untouched which is identified in the 'Sla_in_hours' column. The 'Sla_met' column was created to mark tickets with either a Y or a N if the issue was reviewed within necessary time limit. For 2022, SLA was met 76% of the time and for 2023 SLA was met 68% of the time. We felt like this was not the worst percentage, but the could be better. We then looked at SLA fulfillment by agency. There are 9 agencies that are responsible for several different ticket types that fall under various department and individuals. In 2022, the top performing agencies that had SLA met above 70% were Water & Sewage with 89% met SLA and Garbage, Recycling & Graffiti with 77%. In 2023, Garbage, Recycling & Graffiti met its SLA 82% of the time and Housing & Property Maintenance 75%. The SLA is important because if affects average resolution time. Whenever SLA is no met, the average resolution time increases. \n",
    "\n",
    "\n",
    "2. How can we improve performance?\n",
    "    Which agency completes the most requests?\n",
    "    Look at location and assignee impact: Is there a correlation between location and assignee name?\n",
    "    What parts of town submit the most requests (south, east, north, west)?\n",
    "    \n",
    "After looking at the initial charts, we wanted to determine what factors were impacting SLA performance. First we looked at the number of requests each agency received. The top 3 agencies in 2022 and 2023 were the same. The agencies with the best SLA performance had he most requests.\n",
    "\n",
    "**2022 Results**\n",
    "1.Garbage, Recycling & Graffiti             21322\n",
    "2.Water & Sewage                             5094\n",
    "3.Streets, Sidewalks & Transportation        2466\n",
    "\n",
    "\n",
    "**2023 Results**\n",
    "1.Garbage, Recycling & Graffiti             9394\n",
    "2.Water & Sewage                            3240\n",
    "3.Streets, Sidewalks & Transportation       1506\n",
    "\n",
    "*Which agency has the most assignees: the top agency has the most assignees. Is this important?\n",
    "*SLA Range: Is the number of requests per SLA type important\n",
    "*Tie in location: Will side of town make a difference when it comes to SLA"
   ]
  },
  {
   "cell_type": "markdown",
   "id": "ea087c76-3022-45ae-8a3f-35358a875548",
   "metadata": {},
   "source": [
    "**Ratio of SLA met for 2022 and 2023**"
   ]
  },
  {
   "cell_type": "code",
   "execution_count": 59,
   "id": "2c692f1c-911d-4735-9c42-6bfc6f5961d1",
   "metadata": {
    "tags": []
   },
   "outputs": [
    {
     "data": {
      "text/plain": [
       "Sla_met\n",
       "Y    76.083232\n",
       "N    23.916768\n",
       "Name: proportion, dtype: float64"
      ]
     },
     "execution_count": 59,
     "metadata": {},
     "output_type": "execute_result"
    }
   ],
   "source": [
    "total_sla22 =cityline22.Sla_met.value_counts(normalize=True)*100\n",
    "\n",
    "total_sla22"
   ]
  },
  {
   "cell_type": "code",
   "execution_count": 112,
   "id": "cdac5a1d-0e4d-451b-9634-b4b17860589f",
   "metadata": {
    "tags": []
   },
   "outputs": [],
   "source": [
    "#Get the percentage of SLA met data in 2022\n",
    "total_sla22 =cityline22.Sla_met.value_counts(normalize=True)*100\n",
    "plot1=total_sla22.plot.bar()"
   ]
  },
  {
   "cell_type": "code",
   "execution_count": 109,
   "id": "79d03cd4-a2cb-42ea-9633-b617468f5161",
   "metadata": {
    "tags": []
   },
   "outputs": [
    {
     "data": {
      "text/plain": [
       "Sla_met\n",
       "Y    68.295655\n",
       "N    31.704345\n",
       "Name: proportion, dtype: float64"
      ]
     },
     "execution_count": 109,
     "metadata": {},
     "output_type": "execute_result"
    }
   ],
   "source": [
    "total_sla23 =cityline23.Sla_met.value_counts(normalize=True)*100\n",
    "\n",
    "total_sla23"
   ]
  },
  {
   "cell_type": "code",
   "execution_count": 66,
   "id": "8a0b23f7-4ce6-432b-8e7c-171759991227",
   "metadata": {},
   "outputs": [
    {
     "data": {
      "image/png": "[encoded data removed]",
      "text/plain": [
       "<Figure size 640x480 with 1 Axes>"
      ]
     },
     "metadata": {},
     "output_type": "display_data"
    }
   ],
   "source": [
    "#Get the percentage of SLA met data in 2023\n",
    "\n",
    "\n",
    "total_sla23 =cityline23.Sla_met.value_counts(normalize=True)*100\n",
    "plot2=total_sla23.plot.bar()"
   ]
  },
  {
   "cell_type": "markdown",
   "id": "4a5ef42e-f24c-4e8d-ba6d-8bd3df91ccbf",
   "metadata": {},
   "source": [
    "**Ratio of SLA met by Agency for 2022 and 2023**"
   ]
  },
  {
   "cell_type": "code",
   "execution_count": 114,
   "id": "994bf640-0d1f-4a59-9ddb-150a2c6314ae",
   "metadata": {},
   "outputs": [
    {
     "data": {
      "text/html": [
       "<div>\n",
       "<style scoped>\n",
       "    .dataframe tbody tr th:only-of-type {\n",
       "        vertical-align: middle;\n",
       "    }\n",
       "\n",
       "    .dataframe tbody tr th {\n",
       "        vertical-align: top;\n",
       "    }\n",
       "\n",
       "    .dataframe thead th {\n",
       "        text-align: right;\n",
       "    }\n",
       "</style>\n",
       "<table border=\"1\" class=\"dataframe\">\n",
       "  <thead>\n",
       "    <tr style=\"text-align: right;\">\n",
       "      <th></th>\n",
       "      <th>Y</th>\n",
       "      <th>N</th>\n",
       "      <th>Total</th>\n",
       "      <th>Y_Percentage</th>\n",
       "      <th>N_Percentage</th>\n",
       "    </tr>\n",
       "    <tr>\n",
       "      <th>Agency_Name</th>\n",
       "      <th></th>\n",
       "      <th></th>\n",
       "      <th></th>\n",
       "      <th></th>\n",
       "      <th></th>\n",
       "    </tr>\n",
       "  </thead>\n",
       "  <tbody>\n",
       "    <tr>\n",
       "      <th>Animals</th>\n",
       "      <td>78</td>\n",
       "      <td>74</td>\n",
       "      <td>152</td>\n",
       "      <td>51.315789</td>\n",
       "      <td>48.684211</td>\n",
       "    </tr>\n",
       "    <tr>\n",
       "      <th>Feedback to the City</th>\n",
       "      <td>27</td>\n",
       "      <td>63</td>\n",
       "      <td>90</td>\n",
       "      <td>30.000000</td>\n",
       "      <td>70.000000</td>\n",
       "    </tr>\n",
       "    <tr>\n",
       "      <th>Garbage, Recycling &amp; Graffiti</th>\n",
       "      <td>16479</td>\n",
       "      <td>4843</td>\n",
       "      <td>21322</td>\n",
       "      <td>77.286371</td>\n",
       "      <td>22.713629</td>\n",
       "    </tr>\n",
       "    <tr>\n",
       "      <th>Green Spaces, Trees &amp; Public Utilities</th>\n",
       "      <td>306</td>\n",
       "      <td>168</td>\n",
       "      <td>474</td>\n",
       "      <td>64.556962</td>\n",
       "      <td>35.443038</td>\n",
       "    </tr>\n",
       "    <tr>\n",
       "      <th>Health, Safety &amp; Social Services</th>\n",
       "      <td>11</td>\n",
       "      <td>15</td>\n",
       "      <td>26</td>\n",
       "      <td>42.307692</td>\n",
       "      <td>57.692308</td>\n",
       "    </tr>\n",
       "    <tr>\n",
       "      <th>Housing &amp; Property Maintenance</th>\n",
       "      <td>1502</td>\n",
       "      <td>779</td>\n",
       "      <td>2281</td>\n",
       "      <td>65.848312</td>\n",
       "      <td>34.151688</td>\n",
       "    </tr>\n",
       "    <tr>\n",
       "      <th>Parking &amp; Vehicles</th>\n",
       "      <td>100</td>\n",
       "      <td>98</td>\n",
       "      <td>198</td>\n",
       "      <td>50.505051</td>\n",
       "      <td>49.494949</td>\n",
       "    </tr>\n",
       "    <tr>\n",
       "      <th>Streets, Sidewalks &amp; Transportation</th>\n",
       "      <td>1343</td>\n",
       "      <td>1123</td>\n",
       "      <td>2466</td>\n",
       "      <td>54.460665</td>\n",
       "      <td>45.539335</td>\n",
       "    </tr>\n",
       "    <tr>\n",
       "      <th>Water &amp; Sewage</th>\n",
       "      <td>4579</td>\n",
       "      <td>515</td>\n",
       "      <td>5094</td>\n",
       "      <td>89.890067</td>\n",
       "      <td>10.109933</td>\n",
       "    </tr>\n",
       "  </tbody>\n",
       "</table>\n",
       "</div>"
      ],
      "text/plain": [
       "                                            Y     N  Total  Y_Percentage  \\\n",
       "Agency_Name                                                                \n",
       "Animals                                    78    74    152     51.315789   \n",
       "Feedback to the City                       27    63     90     30.000000   \n",
       "Garbage, Recycling & Graffiti           16479  4843  21322     77.286371   \n",
       "Green Spaces, Trees & Public Utilities    306   168    474     64.556962   \n",
       "Health, Safety & Social Services           11    15     26     42.307692   \n",
       "Housing & Property Maintenance           1502   779   2281     65.848312   \n",
       "Parking & Vehicles                        100    98    198     50.505051   \n",
       "Streets, Sidewalks & Transportation      1343  1123   2466     54.460665   \n",
       "Water & Sewage                           4579   515   5094     89.890067   \n",
       "\n",
       "                                        N_Percentage  \n",
       "Agency_Name                                           \n",
       "Animals                                    48.684211  \n",
       "Feedback to the City                       70.000000  \n",
       "Garbage, Recycling & Graffiti              22.713629  \n",
       "Green Spaces, Trees & Public Utilities     35.443038  \n",
       "Health, Safety & Social Services           57.692308  \n",
       "Housing & Property Maintenance             34.151688  \n",
       "Parking & Vehicles                         49.494949  \n",
       "Streets, Sidewalks & Transportation        45.539335  \n",
       "Water & Sewage                             10.109933  "
      ]
     },
     "execution_count": 114,
     "metadata": {},
     "output_type": "execute_result"
    }
   ],
   "source": [
    "#SLA ratio by agency - 2022\n",
    "#Create seperate datas of \"Y\" and \"N\" sla-met status\n",
    "Yes = cityline22[cityline22['Sla_met'] =='Y']\n",
    "No = cityline22[cityline22['Sla_met'] =='N']\n",
    "\n",
    "#Get totals\n",
    "y = Yes.Agency_Name.value_counts()\n",
    "n = No.Agency_Name.value_counts()\n",
    "\n",
    "#Add data back into a single dataframe\n",
    "agencySLA = pd.DataFrame({ 'Y' : y, 'N' : n, })\n",
    "\n",
    "# Calculate the percentage of 'Y' and 'N' values for each agency row-wise\n",
    "agencySLA['Total'] = agencySLA.sum(axis=1)  # Calculate total counts for each row\n",
    "agencySLA['Y_Percentage'] = (agencySLA['Y'] / agencySLA['Total']) * 100\n",
    "agencySLA['N_Percentage'] = (agencySLA['N'] / agencySLA['Total']) * 100\n",
    "\n",
    "# Drop the 'Total' column if it's not needed\n",
    "#agencySLA.drop('Total', axis=1, inplace=True)\n",
    "\n",
    "agencySLA"
   ]
  },
  {
   "cell_type": "code",
   "execution_count": null,
   "id": "261806d1-8187-459f-b0d9-872ff1726c31",
   "metadata": {},
   "outputs": [],
   "source": [
    "ax = agencySLA[['Y', 'N']].plot.bar()"
   ]
  },
  {
   "cell_type": "code",
   "execution_count": 116,
   "id": "2e3c1429-3b05-43bc-bdec-84de26c9e5a3",
   "metadata": {
    "tags": []
   },
   "outputs": [
    {
     "data": {
      "text/html": [
       "<div>\n",
       "<style scoped>\n",
       "    .dataframe tbody tr th:only-of-type {\n",
       "        vertical-align: middle;\n",
       "    }\n",
       "\n",
       "    .dataframe tbody tr th {\n",
       "        vertical-align: top;\n",
       "    }\n",
       "\n",
       "    .dataframe thead th {\n",
       "        text-align: right;\n",
       "    }\n",
       "</style>\n",
       "<table border=\"1\" class=\"dataframe\">\n",
       "  <thead>\n",
       "    <tr style=\"text-align: right;\">\n",
       "      <th></th>\n",
       "      <th>Y</th>\n",
       "      <th>N</th>\n",
       "      <th>Total</th>\n",
       "      <th>Y_Percentage</th>\n",
       "      <th>N_Percentage</th>\n",
       "    </tr>\n",
       "    <tr>\n",
       "      <th>Agency_Name</th>\n",
       "      <th></th>\n",
       "      <th></th>\n",
       "      <th></th>\n",
       "      <th></th>\n",
       "      <th></th>\n",
       "    </tr>\n",
       "  </thead>\n",
       "  <tbody>\n",
       "    <tr>\n",
       "      <th>Animals</th>\n",
       "      <td>109</td>\n",
       "      <td>63</td>\n",
       "      <td>172</td>\n",
       "      <td>63.372093</td>\n",
       "      <td>36.627907</td>\n",
       "    </tr>\n",
       "    <tr>\n",
       "      <th>Feedback to the City</th>\n",
       "      <td>16</td>\n",
       "      <td>20</td>\n",
       "      <td>36</td>\n",
       "      <td>44.444444</td>\n",
       "      <td>55.555556</td>\n",
       "    </tr>\n",
       "    <tr>\n",
       "      <th>Garbage, Recycling &amp; Graffiti</th>\n",
       "      <td>7711</td>\n",
       "      <td>1683</td>\n",
       "      <td>9394</td>\n",
       "      <td>82.084309</td>\n",
       "      <td>17.915691</td>\n",
       "    </tr>\n",
       "    <tr>\n",
       "      <th>Green Spaces, Trees &amp; Public Utilities</th>\n",
       "      <td>262</td>\n",
       "      <td>171</td>\n",
       "      <td>433</td>\n",
       "      <td>60.508083</td>\n",
       "      <td>39.491917</td>\n",
       "    </tr>\n",
       "    <tr>\n",
       "      <th>Health, Safety &amp; Social Services</th>\n",
       "      <td>9</td>\n",
       "      <td>13</td>\n",
       "      <td>22</td>\n",
       "      <td>40.909091</td>\n",
       "      <td>59.090909</td>\n",
       "    </tr>\n",
       "    <tr>\n",
       "      <th>Housing &amp; Property Maintenance</th>\n",
       "      <td>1125</td>\n",
       "      <td>360</td>\n",
       "      <td>1485</td>\n",
       "      <td>75.757576</td>\n",
       "      <td>24.242424</td>\n",
       "    </tr>\n",
       "    <tr>\n",
       "      <th>Parking &amp; Vehicles</th>\n",
       "      <td>44</td>\n",
       "      <td>79</td>\n",
       "      <td>123</td>\n",
       "      <td>35.772358</td>\n",
       "      <td>64.227642</td>\n",
       "    </tr>\n",
       "    <tr>\n",
       "      <th>Streets, Sidewalks &amp; Transportation</th>\n",
       "      <td>655</td>\n",
       "      <td>851</td>\n",
       "      <td>1506</td>\n",
       "      <td>43.492696</td>\n",
       "      <td>56.507304</td>\n",
       "    </tr>\n",
       "    <tr>\n",
       "      <th>Water &amp; Sewage</th>\n",
       "      <td>1277</td>\n",
       "      <td>1963</td>\n",
       "      <td>3240</td>\n",
       "      <td>39.413580</td>\n",
       "      <td>60.586420</td>\n",
       "    </tr>\n",
       "  </tbody>\n",
       "</table>\n",
       "</div>"
      ],
      "text/plain": [
       "                                           Y     N  Total  Y_Percentage  \\\n",
       "Agency_Name                                                               \n",
       "Animals                                  109    63    172     63.372093   \n",
       "Feedback to the City                      16    20     36     44.444444   \n",
       "Garbage, Recycling & Graffiti           7711  1683   9394     82.084309   \n",
       "Green Spaces, Trees & Public Utilities   262   171    433     60.508083   \n",
       "Health, Safety & Social Services           9    13     22     40.909091   \n",
       "Housing & Property Maintenance          1125   360   1485     75.757576   \n",
       "Parking & Vehicles                        44    79    123     35.772358   \n",
       "Streets, Sidewalks & Transportation      655   851   1506     43.492696   \n",
       "Water & Sewage                          1277  1963   3240     39.413580   \n",
       "\n",
       "                                        N_Percentage  \n",
       "Agency_Name                                           \n",
       "Animals                                    36.627907  \n",
       "Feedback to the City                       55.555556  \n",
       "Garbage, Recycling & Graffiti              17.915691  \n",
       "Green Spaces, Trees & Public Utilities     39.491917  \n",
       "Health, Safety & Social Services           59.090909  \n",
       "Housing & Property Maintenance             24.242424  \n",
       "Parking & Vehicles                         64.227642  \n",
       "Streets, Sidewalks & Transportation        56.507304  \n",
       "Water & Sewage                             60.586420  "
      ]
     },
     "execution_count": 116,
     "metadata": {},
     "output_type": "execute_result"
    }
   ],
   "source": [
    "#SLA ratio by agency - 2023\n",
    "#Create seperate datas of \"Y\" and \"N\" sla-met status\n",
    "Yes23 = cityline23[cityline23['Sla_met'] =='Y']\n",
    "No23 = cityline23[cityline23['Sla_met'] =='N']\n",
    "\n",
    "#Get totals\n",
    "y23 = Yes23.Agency_Name.value_counts()\n",
    "n23 = No23.Agency_Name.value_counts()\n",
    "\n",
    "#Add data back into a single dataframe\n",
    "agencySLA23 = pd.DataFrame({ 'Y' : y23, 'N' : n23, })\n",
    "\n",
    "# Calculate the percentage of 'Y' and 'N' values for each agency row-wise\n",
    "agencySLA23['Total'] = agencySLA23.sum(axis=1)  # Calculate total counts for each row\n",
    "agencySLA23['Y_Percentage'] = (agencySLA23['Y'] / agencySLA23['Total']) * 100\n",
    "agencySLA23['N_Percentage'] = (agencySLA23['N'] / agencySLA23['Total']) * 100\n",
    "\n",
    "# Drop the 'Total' column if it's not needed\n",
    "#agencySLA.drop('Total', axis=1, inplace=True)\n",
    "\n",
    "agencySLA23"
   ]
  },
  {
   "cell_type": "code",
   "execution_count": null,
   "id": "2c2ae36c-eac6-4f82-8b22-1a8a86208323",
   "metadata": {},
   "outputs": [],
   "source": [
    "ax23 = agencySLA23[['Y', 'N']].plot.bar()"
   ]
  },
  {
   "cell_type": "markdown",
   "id": "929b1ab9-fa3f-481f-b95e-d53ac0aa2e17",
   "metadata": {},
   "source": [
    "**Average Resolved Time by Agency for 2022 and 2023**"
   ]
  },
  {
   "cell_type": "code",
   "execution_count": 117,
   "id": "37bd8d06-88ed-4f38-a32e-f665a53fb3de",
   "metadata": {},
   "outputs": [
    {
     "name": "stdout",
     "output_type": "stream",
     "text": [
      "                               Agency Name Acknowleged  Average Days to Closed\n",
      "0                                  Animals           N                     5.3\n",
      "1                                  Animals           Y                     8.7\n",
      "2                     Feedback to the City           N                     9.7\n",
      "3                     Feedback to the City           Y                    28.4\n",
      "4            Garbage, Recycling & Graffiti           N                     1.7\n",
      "5            Garbage, Recycling & Graffiti           Y                     4.3\n",
      "6   Green Spaces, Trees & Public Utilities           N                     9.5\n",
      "7   Green Spaces, Trees & Public Utilities           Y                    29.5\n",
      "8         Health, Safety & Social Services           N                     3.8\n",
      "9         Health, Safety & Social Services           Y                    31.0\n",
      "10          Housing & Property Maintenance           N                     5.1\n",
      "11          Housing & Property Maintenance           Y                    12.2\n",
      "12                      Parking & Vehicles           N                     8.5\n",
      "13                      Parking & Vehicles           Y                    14.2\n",
      "14     Streets, Sidewalks & Transportation           N                     5.9\n",
      "15     Streets, Sidewalks & Transportation           Y                    21.8\n",
      "16                          Water & Sewage           N                     0.2\n",
      "17                          Water & Sewage           Y                    12.6\n"
     ]
    }
   ],
   "source": [
    "#DOES ACKNOWLEDGEMENT MATTER? - IT APPEARS THAT IT DOES\n",
    "\n",
    "#Group by calculate the mean of Days to closed\n",
    "grouped_df3 = cityline22.groupby(['Agency_Name', 'Acknowledged'])['Days_to_closed'].mean().reset_index()\n",
    "\n",
    "# Round the mean values to the nearest tenth\n",
    "grouped_df3.columns = ['Agency Name', 'Acknowleged','Average Days to Closed']\n",
    "grouped_df3['Average Days to Closed'] = grouped_df3['Average Days to Closed'].round(1)\n",
    "\n",
    "print(grouped_df3)\n"
   ]
  },
  {
   "cell_type": "code",
   "execution_count": 104,
   "id": "4a2f6c6f-4efa-4c48-b37a-5ec15274a9d5",
   "metadata": {
    "tags": []
   },
   "outputs": [
    {
     "data": {
      "image/png": "[encoded data removed]",
      "text/plain": [
       "<Figure size 640x480 with 1 Axes>"
      ]
     },
     "metadata": {},
     "output_type": "display_data"
    }
   ],
   "source": [
    "\n",
    "colors = {'Y': 'green', 'N': 'red'}  # Define colors for Acknowledged categories\n",
    "\n",
    "# Use seaborn's barplot for better aesthetics\n",
    "import seaborn as sns\n",
    "\n",
    "sns.barplot(x='Agency Name', y='Average Days to Closed', hue='Acknowleged', data=grouped_df3, palette=colors)\n",
    "\n",
    "plt.title('Average Days to Closed by Agency and Acknowledged Status')\n",
    "plt.xlabel('Agency Name')\n",
    "plt.ylabel('Average Days to Closed')\n",
    "plt.legend(title='Acknowledged', loc='upper right')\n",
    "plt.xticks(rotation=45, ha='right')  # Rotate x-axis labels for better visibility\n",
    "plt.show()"
   ]
  },
  {
   "cell_type": "markdown",
   "id": "2e369506-614c-45fd-92f3-b9c8c4f896f1",
   "metadata": {},
   "source": [
    "**Count of issues per agency for 2023 adn 2022**"
   ]
  },
  {
   "cell_type": "code",
   "execution_count": 118,
   "id": "d28360e8-e0e9-4496-8e10-beb3836af2e8",
   "metadata": {
    "tags": []
   },
   "outputs": [
    {
     "data": {
      "text/plain": [
       "Agency_Name\n",
       "Garbage, Recycling & Graffiti             21322\n",
       "Water & Sewage                             5094\n",
       "Streets, Sidewalks & Transportation        2466\n",
       "Housing & Property Maintenance             2281\n",
       "Green Spaces, Trees & Public Utilities      474\n",
       "Parking & Vehicles                          198\n",
       "Animals                                     152\n",
       "Feedback to the City                         90\n",
       "Health, Safety & Social Services             26\n",
       "Name: count, dtype: int64"
      ]
     },
     "execution_count": 118,
     "metadata": {},
     "output_type": "execute_result"
    }
   ],
   "source": [
    "#Count of agencies\n",
    "#Most complaints to to the Garbage, Recycling & Graffiti Dept.\n",
    "cityline22['Agency_Name'].value_counts()"
   ]
  },
  {
   "cell_type": "code",
   "execution_count": 124,
   "id": "faea4800-4799-4bbf-8b0e-01c8a5a2bd05",
   "metadata": {
    "tags": []
   },
   "outputs": [
    {
     "data": {
      "image/png": "[encoded data removed]",
      "text/plain": [
       "<Figure size 640x480 with 1 Axes>"
      ]
     },
     "metadata": {},
     "output_type": "display_data"
    },
    {
     "data": {
      "text/plain": [
       "<Figure size 1800x900 with 0 Axes>"
      ]
     },
     "metadata": {},
     "output_type": "display_data"
    }
   ],
   "source": [
    "cityline22['Agency_Name'].value_counts().plot.barh(color=\"orange\")\n",
    "#Most complaints to to the Garbage, Recycling & Graffiti Dept.\n",
    "\n",
    "plt.title('Total Request per Agency 2022')\n",
    "plt.xlabel('Agency Name')\n",
    "plt.ylabel('Count')\n",
    "plt.figure(figsize=(18, 9))\n",
    "plt.show()"
   ]
  },
  {
   "cell_type": "markdown",
   "id": "8bb3e773-0b11-4219-9dda-0cea060fa266",
   "metadata": {},
   "source": [
    "**Ratio of SLA met requests by month**"
   ]
  },
  {
   "cell_type": "code",
   "execution_count": 125,
   "id": "89ca4e47-e49f-48e9-8e57-307b71428097",
   "metadata": {
    "tags": []
   },
   "outputs": [
    {
     "data": {
      "text/plain": [
       "Agency_Name\n",
       "Garbage, Recycling & Graffiti             9394\n",
       "Water & Sewage                            3240\n",
       "Streets, Sidewalks & Transportation       1506\n",
       "Housing & Property Maintenance            1485\n",
       "Green Spaces, Trees & Public Utilities     433\n",
       "Animals                                    172\n",
       "Parking & Vehicles                         123\n",
       "Feedback to the City                        36\n",
       "Health, Safety & Social Services            22\n",
       "Name: count, dtype: int64"
      ]
     },
     "execution_count": 125,
     "metadata": {},
     "output_type": "execute_result"
    }
   ],
   "source": [
    "#Count of agencies- 2023\n",
    "#Most complaints to to the Garbage, Recycling & Graffiti Dept.\n",
    "cityline23['Agency_Name'].value_counts()"
   ]
  },
  {
   "cell_type": "code",
   "execution_count": 123,
   "id": "71c581dd-5c54-4051-939b-1ccf154cbfbb",
   "metadata": {
    "tags": []
   },
   "outputs": [
    {
     "data": {
      "image/png": "[encoded data removed]",
      "text/plain": [
       "<Figure size 640x480 with 1 Axes>"
      ]
     },
     "metadata": {},
     "output_type": "display_data"
    },
    {
     "data": {
      "text/plain": [
       "<Figure size 1800x900 with 0 Axes>"
      ]
     },
     "metadata": {},
     "output_type": "display_data"
    }
   ],
   "source": [
    "cityline23['Agency_Name'].value_counts().plot.barh(color=\"orange\")\n",
    "#Most complaints to to the Garbage, Recycling & Graffiti Dept.\n",
    "\n",
    "plt.title('Total Request per Agency 2023')\n",
    "plt.xlabel('Agency Name')\n",
    "plt.ylabel('Count')\n",
    "plt.figure(figsize=(18, 9))\n",
    "plt.show()"
   ]
  },
  {
   "cell_type": "code",
   "execution_count": 32,
   "id": "9a3e64c0-006a-462e-aa20-bb9792e3c4ef",
   "metadata": {},
   "outputs": [
    {
     "data": {
      "text/html": [
       "<div>\n",
       "<style scoped>\n",
       "    .dataframe tbody tr th:only-of-type {\n",
       "        vertical-align: middle;\n",
       "    }\n",
       "\n",
       "    .dataframe tbody tr th {\n",
       "        vertical-align: top;\n",
       "    }\n",
       "\n",
       "    .dataframe thead th {\n",
       "        text-align: right;\n",
       "    }\n",
       "</style>\n",
       "<table border=\"1\" class=\"dataframe\">\n",
       "  <thead>\n",
       "    <tr style=\"text-align: right;\">\n",
       "      <th>Sla_met</th>\n",
       "      <th>N</th>\n",
       "      <th>Y</th>\n",
       "    </tr>\n",
       "    <tr>\n",
       "      <th>Date_Resolved</th>\n",
       "      <th></th>\n",
       "      <th></th>\n",
       "    </tr>\n",
       "  </thead>\n",
       "  <tbody>\n",
       "    <tr>\n",
       "      <th>2022-01-31</th>\n",
       "      <td>0.181597</td>\n",
       "      <td>0.818403</td>\n",
       "    </tr>\n",
       "    <tr>\n",
       "      <th>2022-02-28</th>\n",
       "      <td>0.276467</td>\n",
       "      <td>0.723533</td>\n",
       "    </tr>\n",
       "    <tr>\n",
       "      <th>2022-03-31</th>\n",
       "      <td>0.287399</td>\n",
       "      <td>0.712601</td>\n",
       "    </tr>\n",
       "    <tr>\n",
       "      <th>2022-04-30</th>\n",
       "      <td>0.323050</td>\n",
       "      <td>0.676950</td>\n",
       "    </tr>\n",
       "    <tr>\n",
       "      <th>2022-05-31</th>\n",
       "      <td>0.264934</td>\n",
       "      <td>0.735066</td>\n",
       "    </tr>\n",
       "    <tr>\n",
       "      <th>2022-06-30</th>\n",
       "      <td>0.318111</td>\n",
       "      <td>0.681889</td>\n",
       "    </tr>\n",
       "    <tr>\n",
       "      <th>2022-07-31</th>\n",
       "      <td>0.303392</td>\n",
       "      <td>0.696608</td>\n",
       "    </tr>\n",
       "    <tr>\n",
       "      <th>2022-08-31</th>\n",
       "      <td>0.209356</td>\n",
       "      <td>0.790644</td>\n",
       "    </tr>\n",
       "    <tr>\n",
       "      <th>2022-09-30</th>\n",
       "      <td>0.092311</td>\n",
       "      <td>0.907689</td>\n",
       "    </tr>\n",
       "    <tr>\n",
       "      <th>2022-10-31</th>\n",
       "      <td>0.154817</td>\n",
       "      <td>0.845183</td>\n",
       "    </tr>\n",
       "    <tr>\n",
       "      <th>2022-11-30</th>\n",
       "      <td>0.202247</td>\n",
       "      <td>0.797753</td>\n",
       "    </tr>\n",
       "    <tr>\n",
       "      <th>2022-12-31</th>\n",
       "      <td>0.248481</td>\n",
       "      <td>0.751519</td>\n",
       "    </tr>\n",
       "    <tr>\n",
       "      <th>2023-01-31</th>\n",
       "      <td>0.912162</td>\n",
       "      <td>0.087838</td>\n",
       "    </tr>\n",
       "    <tr>\n",
       "      <th>2023-02-28</th>\n",
       "      <td>1.000000</td>\n",
       "      <td>0.000000</td>\n",
       "    </tr>\n",
       "    <tr>\n",
       "      <th>2023-03-31</th>\n",
       "      <td>1.000000</td>\n",
       "      <td>0.000000</td>\n",
       "    </tr>\n",
       "    <tr>\n",
       "      <th>2023-04-30</th>\n",
       "      <td>1.000000</td>\n",
       "      <td>0.000000</td>\n",
       "    </tr>\n",
       "    <tr>\n",
       "      <th>2023-05-31</th>\n",
       "      <td>1.000000</td>\n",
       "      <td>0.000000</td>\n",
       "    </tr>\n",
       "    <tr>\n",
       "      <th>2023-06-30</th>\n",
       "      <td>1.000000</td>\n",
       "      <td>0.000000</td>\n",
       "    </tr>\n",
       "    <tr>\n",
       "      <th>2023-07-31</th>\n",
       "      <td>1.000000</td>\n",
       "      <td>0.000000</td>\n",
       "    </tr>\n",
       "  </tbody>\n",
       "</table>\n",
       "</div>"
      ],
      "text/plain": [
       "Sla_met               N         Y\n",
       "Date_Resolved                    \n",
       "2022-01-31     0.181597  0.818403\n",
       "2022-02-28     0.276467  0.723533\n",
       "2022-03-31     0.287399  0.712601\n",
       "2022-04-30     0.323050  0.676950\n",
       "2022-05-31     0.264934  0.735066\n",
       "2022-06-30     0.318111  0.681889\n",
       "2022-07-31     0.303392  0.696608\n",
       "2022-08-31     0.209356  0.790644\n",
       "2022-09-30     0.092311  0.907689\n",
       "2022-10-31     0.154817  0.845183\n",
       "2022-11-30     0.202247  0.797753\n",
       "2022-12-31     0.248481  0.751519\n",
       "2023-01-31     0.912162  0.087838\n",
       "2023-02-28     1.000000  0.000000\n",
       "2023-03-31     1.000000  0.000000\n",
       "2023-04-30     1.000000  0.000000\n",
       "2023-05-31     1.000000  0.000000\n",
       "2023-06-30     1.000000  0.000000\n",
       "2023-07-31     1.000000  0.000000"
      ]
     },
     "execution_count": 32,
     "metadata": {},
     "output_type": "execute_result"
    }
   ],
   "source": [
    "#Get Ratio of SLA met requests by month\n",
    "cityline22.set_index(\"Date_Resolved\", inplace=True) #set Date resolved column as index\n",
    "\n",
    "#group and count data sla met and agency name by month. Use unstack to remove data from index and fillna to take care of any nas in data\n",
    "monthly_issues = cityline22.groupby([pd.Grouper(freq='M'), 'Sla_met'])['Agency_Name'].count().unstack().fillna(0) \n",
    "\n",
    "monthly_issues\n",
    "\n",
    "#Make values percentages\n",
    "percentSLA = monthly_issues.div(monthly_issues.sum(axis=1), axis=0)\n",
    "percentSLA"
   ]
  },
  {
   "cell_type": "markdown",
   "id": "967705b0-4f59-4b61-904a-05ced7ef2bb9",
   "metadata": {},
   "source": [
    "**SLA ratio by agency**"
   ]
  },
  {
   "cell_type": "code",
   "execution_count": null,
   "id": "91ef53a5-f888-453b-a66b-6fcd02491cec",
   "metadata": {},
   "outputs": [],
   "source": []
  },
  {
   "cell_type": "markdown",
   "id": "c17f8023-5626-49d2-9cfe-0151eda47669",
   "metadata": {},
   "source": [
    "###   DATA RUNDOWN FOR 2022 ### \n",
    "\n",
    "#Count of agencies and assignees - Done  \n",
    "#Count of assignee per agency - Done  \n",
    "#Count of issues by agency name  - AGENCY WITH THE MOST REQUESTS, Certain agencies handle way more requests than others - Done  \n",
    "#Count of issues by month  - MONTH WITH THE MOST REQUESTS, anything notable - Done\n",
    "#Count of submissions by request type - how do requests get looked at  - most people still prefer to submit paper forms versus electronic - Done  \n",
    "#Sla range for each category - which agencies take the longest - Done  \n",
    "**#Avg Resolution Time by agency name  QUICKEST AGENCIES, certain agencies require more time to resolve issues than others wide spread** \n",
    " \n",
    "\n"
   ]
  },
  {
   "cell_type": "markdown",
   "id": "0afba0a4-d58a-4b78-8628-18a55ec41011",
   "metadata": {},
   "source": [
    "**What we learned**  \n",
    "#Agency that received the most requests = Garbage, Recycling & Graffiti Dept.  \n",
    "#Requests were assgined out to 56 different indiviuals and teams  \n",
    "#September received the most requests and requests declined from there  \n",
    "#Majority of requests get submitted by paper form  \n",
    "#SLAs range from 24 to 1344 hours\n",
    "#SLA are likely tied to assignee type"
   ]
  },
  {
   "cell_type": "markdown",
   "id": "da467140-2d02-413f-960e-a702d0d2174a",
   "metadata": {},
   "source": [
    "**Count of agencies and assignees**"
   ]
  },
  {
   "cell_type": "code",
   "execution_count": 19,
   "id": "691d248e-0472-4eb0-b38d-53139a967258",
   "metadata": {
    "tags": []
   },
   "outputs": [
    {
     "name": "stdout",
     "output_type": "stream",
     "text": [
      "9\n",
      "56\n"
     ]
    }
   ],
   "source": [
    "#Count of agencies and assignees \n",
    "\n",
    "agencyCount = cityline22.Agency_Name.nunique()\n",
    "assigneeCount = cityline22.Assignee_name.nunique()\n",
    "\n",
    "print(agencyCount)\n",
    "print(assigneeCount)"
   ]
  },
  {
   "cell_type": "markdown",
   "id": "be8dac72-8be6-47bd-9d91-ef7c9bc72fa0",
   "metadata": {
    "tags": []
   },
   "source": [
    "**Count of assignee per agency**"
   ]
  },
  {
   "cell_type": "code",
   "execution_count": 20,
   "id": "ebbcb057-bfb0-4a0f-a508-5a3a1454f422",
   "metadata": {
    "tags": []
   },
   "outputs": [
    {
     "name": "stdout",
     "output_type": "stream",
     "text": [
      "                                 Category  # of Potential Asignees\n",
      "0                                 Animals                        9\n",
      "1                    Feedback to the City                       23\n",
      "2           Garbage, Recycling & Graffiti                       31\n",
      "3  Green Spaces, Trees & Public Utilities                       25\n",
      "4        Health, Safety & Social Services                        8\n",
      "5          Housing & Property Maintenance                       32\n",
      "6                      Parking & Vehicles                       11\n",
      "7     Streets, Sidewalks & Transportation                       36\n",
      "8                          Water & Sewage                        8\n"
     ]
    }
   ],
   "source": [
    "#Count of assignee per agency \n",
    "\n",
    "# Use groupby and count to get the count of assignee per agency 2022 DATA \n",
    "count_assignee= cityline22.groupby('Agency_Name')['Assignee_name'].nunique().reset_index()\n",
    "\n",
    "# Rename the columns for clarity (optional)\n",
    "count_assignee.columns = ['Category', '# of Potential Asignees']\n",
    "\n",
    "print(count_assignee)"
   ]
  },
  {
   "cell_type": "markdown",
   "id": "3c64ba4f-211f-4969-9d83-a5ab5fca2110",
   "metadata": {
    "tags": []
   },
   "source": [
    "**Count of issues per month**"
   ]
  },
  {
   "cell_type": "code",
   "execution_count": 23,
   "id": "34864e94-eb66-4531-816c-1258ac9d9b5f",
   "metadata": {
    "tags": []
   },
   "outputs": [
    {
     "data": {
      "text/plain": [
       "Date_Submitted\n",
       "2022-01-31    1793\n",
       "2022-02-28    2024\n",
       "2022-03-31    2968\n",
       "2022-04-30    2993\n",
       "2022-05-31    3632\n",
       "2022-06-30    3112\n",
       "2022-07-31    2441\n",
       "2022-08-31    2585\n",
       "2022-09-30    4627\n",
       "2022-10-31    2369\n",
       "2022-11-30    1916\n",
       "2022-12-31    1643\n",
       "Freq: M, Name: Agency_Name, dtype: int64"
      ]
     },
     "execution_count": 23,
     "metadata": {},
     "output_type": "execute_result"
    }
   ],
   "source": [
    "cityline22.set_index(\"Date_Submitted\", inplace=True)\n",
    "monthly_issues = cityline22['Agency_Name'].resample('M').count()  #resample, count issues per day\n",
    "monthly_issues.sort_index(inplace=True)\n",
    "monthly_issues"
   ]
  },
  {
   "cell_type": "code",
   "execution_count": 24,
   "id": "14a6168d-6020-412a-88d9-6fb5aaacce8d",
   "metadata": {
    "tags": []
   },
   "outputs": [
    {
     "data": {
      "text/plain": [
       "<Axes: xlabel='Date_Submitted'>"
      ]
     },
     "execution_count": 24,
     "metadata": {},
     "output_type": "execute_result"
    },
    {
     "data": {
      "image/png": "[encoded data removed]",
      "text/plain": [
       "<Figure size 640x480 with 1 Axes>"
      ]
     },
     "metadata": {},
     "output_type": "display_data"
    }
   ],
   "source": [
    "monthly_issues.plot()"
   ]
  },
  {
   "cell_type": "markdown",
   "id": "03c5ccc3-10e5-4983-85c3-7d03dbb68f35",
   "metadata": {},
   "source": [
    "**Count of issues by request form submissions**"
   ]
  },
  {
   "cell_type": "code",
   "execution_count": 25,
   "id": "677c532b-17bf-49aa-b5d3-37aa274256e1",
   "metadata": {
    "tags": []
   },
   "outputs": [
    {
     "name": "stdout",
     "output_type": "stream",
     "text": [
      "Report_Source\n",
      "Request Form     25124\n",
      "iPhone            3120\n",
      "Portal            2606\n",
      "Android            801\n",
      "Web - Mobile       327\n",
      "Web - Desktop      125\n",
      "Name: count, dtype: int64\n",
      "Report_Source\n",
      "Request Form     0.782606\n",
      "iPhone           0.097187\n",
      "Portal           0.081176\n",
      "Android          0.024951\n",
      "Web - Mobile     0.010186\n",
      "Web - Desktop    0.003894\n",
      "Name: proportion, dtype: float64\n"
     ]
    }
   ],
   "source": [
    "\n",
    "formCounts = cityline22.Report_Source.value_counts()\n",
    "\n",
    "print(formCounts) \n",
    "\n",
    "formPercents = cityline22.Report_Source.value_counts(normalize=True) \n",
    "\n",
    "print(formPercents)"
   ]
  },
  {
   "cell_type": "code",
   "execution_count": 26,
   "id": "589f3def-b9de-41ec-b688-fa1825bfbafb",
   "metadata": {},
   "outputs": [
    {
     "data": {
      "image/png": "[encoded data removed]",
      "text/plain": [
       "<Figure size 640x480 with 1 Axes>"
      ]
     },
     "metadata": {},
     "output_type": "display_data"
    }
   ],
   "source": [
    "# Calculate percentages\n",
    "formPercents = cityline22['Report_Source'].value_counts(normalize=True) #Get the count of each Report source, then normalize\n",
    "\n",
    "# Create a pie chart with % labels(using autopct) outside the pie (using pctdistance and labeldistance), and specific color scheme (using colors)\n",
    "plt.pie(formPercents, autopct='%1.0f%%', startangle=100, pctdistance=1.09, colors=['maroon', 'navajowhite', 'bisque', 'darkorange','wheat','orange'], labeldistance=5.7)\n",
    "\n",
    "#Used to make pie chart a donut chart\n",
    "centre_circle = plt.Circle((0, 0), 0.70, fc='white')\n",
    "fig = plt.gcf()\n",
    "fig.gca().add_artist(centre_circle)\n",
    "\n",
    "# Equal aspect ratio ensures that pie is drawn as a circle\n",
    "plt.axis('equal')\n",
    "\n",
    "# Maintain shape and location of plot\n",
    "plt.legend(labels=formPercents.index, loc='center left', bbox_to_anchor=(1, 0.5), fontsize=10)\n",
    "\n",
    "# Add title\n",
    "plt.title('Report Source Distribution')\n",
    "\n",
    "# Show the plot\n",
    "plt.show()"
   ]
  },
  {
   "cell_type": "markdown",
   "id": "228dd08d-ec31-421c-8b47-07db7ce8a321",
   "metadata": {},
   "source": [
    "**Sla ranges**"
   ]
  },
  {
   "cell_type": "code",
   "execution_count": 27,
   "id": "78b7e19e-c5c1-4258-92b9-d781d4ce7740",
   "metadata": {
    "tags": []
   },
   "outputs": [
    {
     "data": {
      "text/plain": [
       "array([  72.,   48.,  120.,   24.,   96.,  360., 1344.,  288.,  504.])"
      ]
     },
     "execution_count": 27,
     "metadata": {},
     "output_type": "execute_result"
    }
   ],
   "source": [
    "cityline22.Sla_in_hours.unique()"
   ]
  },
  {
   "cell_type": "markdown",
   "id": "abb3cac3-f80c-436a-b2d7-137c52cb2168",
   "metadata": {},
   "source": [
    "**Number of Slas per agency**"
   ]
  },
  {
   "cell_type": "code",
   "execution_count": 28,
   "id": "0df5e0f6-9abe-422f-91dd-fbbef686d1fb",
   "metadata": {
    "tags": []
   },
   "outputs": [
    {
     "name": "stdout",
     "output_type": "stream",
     "text": [
      "                                 Category  SLA Range\n",
      "0                                 Animals          2\n",
      "1                    Feedback to the City          1\n",
      "2           Garbage, Recycling & Graffiti          6\n",
      "3  Green Spaces, Trees & Public Utilities          3\n",
      "4        Health, Safety & Social Services          1\n",
      "5          Housing & Property Maintenance          2\n",
      "6                      Parking & Vehicles          3\n",
      "7     Streets, Sidewalks & Transportation          5\n",
      "8                          Water & Sewage          1\n"
     ]
    }
   ],
   "source": [
    "#SLA range count for each agency \n",
    "\n",
    "# Use groupby and count to get the count of assignee per agency 2022 DATA \n",
    "slaCount= cityline22.groupby('Agency_Name')['Sla_in_hours'].nunique().reset_index()\n",
    "\n",
    "# Rename the columns for clarity (optional)\n",
    "slaCount.columns = ['Category', 'SLA Range']\n",
    "\n",
    "print(slaCount)"
   ]
  },
  {
   "cell_type": "markdown",
   "id": "2fd2ede4-e3b7-416c-b4f5-9e540ee7dacd",
   "metadata": {
    "tags": []
   },
   "source": [
    "**Number of Slas per agency**"
   ]
  },
  {
   "cell_type": "code",
   "execution_count": 29,
   "id": "36492acc-8492-43f2-b991-0f1ec9de6c5d",
   "metadata": {
    "tags": []
   },
   "outputs": [
    {
     "data": {
      "text/html": [
       "<div>\n",
       "<style scoped>\n",
       "    .dataframe tbody tr th:only-of-type {\n",
       "        vertical-align: middle;\n",
       "    }\n",
       "\n",
       "    .dataframe tbody tr th {\n",
       "        vertical-align: top;\n",
       "    }\n",
       "\n",
       "    .dataframe thead th {\n",
       "        text-align: right;\n",
       "    }\n",
       "</style>\n",
       "<table border=\"1\" class=\"dataframe\">\n",
       "  <thead>\n",
       "    <tr style=\"text-align: right;\">\n",
       "      <th></th>\n",
       "      <th></th>\n",
       "      <th>count</th>\n",
       "    </tr>\n",
       "    <tr>\n",
       "      <th>Agency_Name</th>\n",
       "      <th>Sla_in_hours</th>\n",
       "      <th></th>\n",
       "    </tr>\n",
       "  </thead>\n",
       "  <tbody>\n",
       "    <tr>\n",
       "      <th rowspan=\"2\" valign=\"top\">Animals</th>\n",
       "      <th>24.0</th>\n",
       "      <td>129</td>\n",
       "    </tr>\n",
       "    <tr>\n",
       "      <th>48.0</th>\n",
       "      <td>23</td>\n",
       "    </tr>\n",
       "    <tr>\n",
       "      <th>Feedback to the City</th>\n",
       "      <th>24.0</th>\n",
       "      <td>90</td>\n",
       "    </tr>\n",
       "    <tr>\n",
       "      <th rowspan=\"6\" valign=\"top\">Garbage, Recycling &amp; Graffiti</th>\n",
       "      <th>48.0</th>\n",
       "      <td>13614</td>\n",
       "    </tr>\n",
       "    <tr>\n",
       "      <th>72.0</th>\n",
       "      <td>3851</td>\n",
       "    </tr>\n",
       "    <tr>\n",
       "      <th>24.0</th>\n",
       "      <td>1717</td>\n",
       "    </tr>\n",
       "    <tr>\n",
       "      <th>96.0</th>\n",
       "      <td>1693</td>\n",
       "    </tr>\n",
       "    <tr>\n",
       "      <th>504.0</th>\n",
       "      <td>284</td>\n",
       "    </tr>\n",
       "    <tr>\n",
       "      <th>120.0</th>\n",
       "      <td>163</td>\n",
       "    </tr>\n",
       "    <tr>\n",
       "      <th rowspan=\"3\" valign=\"top\">Green Spaces, Trees &amp; Public Utilities</th>\n",
       "      <th>72.0</th>\n",
       "      <td>165</td>\n",
       "    </tr>\n",
       "    <tr>\n",
       "      <th>24.0</th>\n",
       "      <td>7</td>\n",
       "    </tr>\n",
       "    <tr>\n",
       "      <th>1344.0</th>\n",
       "      <td>302</td>\n",
       "    </tr>\n",
       "    <tr>\n",
       "      <th>Health, Safety &amp; Social Services</th>\n",
       "      <th>48.0</th>\n",
       "      <td>26</td>\n",
       "    </tr>\n",
       "    <tr>\n",
       "      <th rowspan=\"2\" valign=\"top\">Housing &amp; Property Maintenance</th>\n",
       "      <th>48.0</th>\n",
       "      <td>2009</td>\n",
       "    </tr>\n",
       "    <tr>\n",
       "      <th>96.0</th>\n",
       "      <td>272</td>\n",
       "    </tr>\n",
       "    <tr>\n",
       "      <th rowspan=\"3\" valign=\"top\">Parking &amp; Vehicles</th>\n",
       "      <th>72.0</th>\n",
       "      <td>90</td>\n",
       "    </tr>\n",
       "    <tr>\n",
       "      <th>48.0</th>\n",
       "      <td>77</td>\n",
       "    </tr>\n",
       "    <tr>\n",
       "      <th>120.0</th>\n",
       "      <td>31</td>\n",
       "    </tr>\n",
       "    <tr>\n",
       "      <th rowspan=\"5\" valign=\"top\">Streets, Sidewalks &amp; Transportation</th>\n",
       "      <th>288.0</th>\n",
       "      <td>53</td>\n",
       "    </tr>\n",
       "    <tr>\n",
       "      <th>120.0</th>\n",
       "      <td>1330</td>\n",
       "    </tr>\n",
       "    <tr>\n",
       "      <th>48.0</th>\n",
       "      <td>449</td>\n",
       "    </tr>\n",
       "    <tr>\n",
       "      <th>360.0</th>\n",
       "      <td>340</td>\n",
       "    </tr>\n",
       "    <tr>\n",
       "      <th>96.0</th>\n",
       "      <td>294</td>\n",
       "    </tr>\n",
       "    <tr>\n",
       "      <th>Water &amp; Sewage</th>\n",
       "      <th>24.0</th>\n",
       "      <td>5094</td>\n",
       "    </tr>\n",
       "  </tbody>\n",
       "</table>\n",
       "</div>"
      ],
      "text/plain": [
       "                                                     count\n",
       "Agency_Name                            Sla_in_hours       \n",
       "Animals                                24.0            129\n",
       "                                       48.0             23\n",
       "Feedback to the City                   24.0             90\n",
       "Garbage, Recycling & Graffiti          48.0          13614\n",
       "                                       72.0           3851\n",
       "                                       24.0           1717\n",
       "                                       96.0           1693\n",
       "                                       504.0           284\n",
       "                                       120.0           163\n",
       "Green Spaces, Trees & Public Utilities 72.0            165\n",
       "                                       24.0              7\n",
       "                                       1344.0          302\n",
       "Health, Safety & Social Services       48.0             26\n",
       "Housing & Property Maintenance         48.0           2009\n",
       "                                       96.0            272\n",
       "Parking & Vehicles                     72.0             90\n",
       "                                       48.0             77\n",
       "                                       120.0            31\n",
       "Streets, Sidewalks & Transportation    288.0            53\n",
       "                                       120.0          1330\n",
       "                                       48.0            449\n",
       "                                       360.0           340\n",
       "                                       96.0            294\n",
       "Water & Sewage                         24.0           5094"
      ]
     },
     "execution_count": 29,
     "metadata": {},
     "output_type": "execute_result"
    }
   ],
   "source": [
    "slaTypes= cityline22.groupby('Agency_Name')\n",
    "SLAs = slaTypes['Sla_in_hours'].value_counts()\n",
    "done = pd.DataFrame(SLAs).sort_values(['Agency_Name'])\n",
    "done"
   ]
  },
  {
   "cell_type": "code",
   "execution_count": 30,
   "id": "771ae639-3c0e-4ca8-a91f-24bfe2c3898e",
   "metadata": {},
   "outputs": [
    {
     "data": {
      "text/html": [
       "<div>\n",
       "<style scoped>\n",
       "    .dataframe tbody tr th:only-of-type {\n",
       "        vertical-align: middle;\n",
       "    }\n",
       "\n",
       "    .dataframe tbody tr th {\n",
       "        vertical-align: top;\n",
       "    }\n",
       "\n",
       "    .dataframe thead th {\n",
       "        text-align: right;\n",
       "    }\n",
       "</style>\n",
       "<table border=\"1\" class=\"dataframe\">\n",
       "  <thead>\n",
       "    <tr style=\"text-align: right;\">\n",
       "      <th></th>\n",
       "      <th>24</th>\n",
       "      <th>48</th>\n",
       "      <th>72</th>\n",
       "      <th>96</th>\n",
       "      <th>120</th>\n",
       "      <th>288</th>\n",
       "      <th>360</th>\n",
       "      <th>504</th>\n",
       "      <th>1344</th>\n",
       "    </tr>\n",
       "    <tr>\n",
       "      <th>Agency_Name</th>\n",
       "      <th></th>\n",
       "      <th></th>\n",
       "      <th></th>\n",
       "      <th></th>\n",
       "      <th></th>\n",
       "      <th></th>\n",
       "      <th></th>\n",
       "      <th></th>\n",
       "      <th></th>\n",
       "    </tr>\n",
       "  </thead>\n",
       "  <tbody>\n",
       "    <tr>\n",
       "      <th>Animals</th>\n",
       "      <td>129.0</td>\n",
       "      <td>23.0</td>\n",
       "      <td>NaN</td>\n",
       "      <td>NaN</td>\n",
       "      <td>NaN</td>\n",
       "      <td>NaN</td>\n",
       "      <td>NaN</td>\n",
       "      <td>NaN</td>\n",
       "      <td>NaN</td>\n",
       "    </tr>\n",
       "    <tr>\n",
       "      <th>Feedback to the City</th>\n",
       "      <td>90.0</td>\n",
       "      <td>NaN</td>\n",
       "      <td>NaN</td>\n",
       "      <td>NaN</td>\n",
       "      <td>NaN</td>\n",
       "      <td>NaN</td>\n",
       "      <td>NaN</td>\n",
       "      <td>NaN</td>\n",
       "      <td>NaN</td>\n",
       "    </tr>\n",
       "    <tr>\n",
       "      <th>Garbage, Recycling &amp; Graffiti</th>\n",
       "      <td>1717.0</td>\n",
       "      <td>13614.0</td>\n",
       "      <td>3851.0</td>\n",
       "      <td>1693.0</td>\n",
       "      <td>163.0</td>\n",
       "      <td>NaN</td>\n",
       "      <td>NaN</td>\n",
       "      <td>284.0</td>\n",
       "      <td>NaN</td>\n",
       "    </tr>\n",
       "    <tr>\n",
       "      <th>Green Spaces, Trees &amp; Public Utilities</th>\n",
       "      <td>7.0</td>\n",
       "      <td>NaN</td>\n",
       "      <td>165.0</td>\n",
       "      <td>NaN</td>\n",
       "      <td>NaN</td>\n",
       "      <td>NaN</td>\n",
       "      <td>NaN</td>\n",
       "      <td>NaN</td>\n",
       "      <td>302.0</td>\n",
       "    </tr>\n",
       "    <tr>\n",
       "      <th>Health, Safety &amp; Social Services</th>\n",
       "      <td>NaN</td>\n",
       "      <td>26.0</td>\n",
       "      <td>NaN</td>\n",
       "      <td>NaN</td>\n",
       "      <td>NaN</td>\n",
       "      <td>NaN</td>\n",
       "      <td>NaN</td>\n",
       "      <td>NaN</td>\n",
       "      <td>NaN</td>\n",
       "    </tr>\n",
       "    <tr>\n",
       "      <th>Housing &amp; Property Maintenance</th>\n",
       "      <td>NaN</td>\n",
       "      <td>2009.0</td>\n",
       "      <td>NaN</td>\n",
       "      <td>272.0</td>\n",
       "      <td>NaN</td>\n",
       "      <td>NaN</td>\n",
       "      <td>NaN</td>\n",
       "      <td>NaN</td>\n",
       "      <td>NaN</td>\n",
       "    </tr>\n",
       "    <tr>\n",
       "      <th>Parking &amp; Vehicles</th>\n",
       "      <td>NaN</td>\n",
       "      <td>77.0</td>\n",
       "      <td>90.0</td>\n",
       "      <td>NaN</td>\n",
       "      <td>31.0</td>\n",
       "      <td>NaN</td>\n",
       "      <td>NaN</td>\n",
       "      <td>NaN</td>\n",
       "      <td>NaN</td>\n",
       "    </tr>\n",
       "    <tr>\n",
       "      <th>Streets, Sidewalks &amp; Transportation</th>\n",
       "      <td>NaN</td>\n",
       "      <td>449.0</td>\n",
       "      <td>NaN</td>\n",
       "      <td>294.0</td>\n",
       "      <td>1330.0</td>\n",
       "      <td>53.0</td>\n",
       "      <td>340.0</td>\n",
       "      <td>NaN</td>\n",
       "      <td>NaN</td>\n",
       "    </tr>\n",
       "    <tr>\n",
       "      <th>Water &amp; Sewage</th>\n",
       "      <td>5094.0</td>\n",
       "      <td>NaN</td>\n",
       "      <td>NaN</td>\n",
       "      <td>NaN</td>\n",
       "      <td>NaN</td>\n",
       "      <td>NaN</td>\n",
       "      <td>NaN</td>\n",
       "      <td>NaN</td>\n",
       "      <td>NaN</td>\n",
       "    </tr>\n",
       "  </tbody>\n",
       "</table>\n",
       "</div>"
      ],
      "text/plain": [
       "                                            24       48      72      96  \\\n",
       "Agency_Name                                                               \n",
       "Animals                                  129.0     23.0     NaN     NaN   \n",
       "Feedback to the City                      90.0      NaN     NaN     NaN   \n",
       "Garbage, Recycling & Graffiti           1717.0  13614.0  3851.0  1693.0   \n",
       "Green Spaces, Trees & Public Utilities     7.0      NaN   165.0     NaN   \n",
       "Health, Safety & Social Services           NaN     26.0     NaN     NaN   \n",
       "Housing & Property Maintenance             NaN   2009.0     NaN   272.0   \n",
       "Parking & Vehicles                         NaN     77.0    90.0     NaN   \n",
       "Streets, Sidewalks & Transportation        NaN    449.0     NaN   294.0   \n",
       "Water & Sewage                          5094.0      NaN     NaN     NaN   \n",
       "\n",
       "                                           120   288    360    504   1344  \n",
       "Agency_Name                                                                \n",
       "Animals                                    NaN   NaN    NaN    NaN    NaN  \n",
       "Feedback to the City                       NaN   NaN    NaN    NaN    NaN  \n",
       "Garbage, Recycling & Graffiti            163.0   NaN    NaN  284.0    NaN  \n",
       "Green Spaces, Trees & Public Utilities     NaN   NaN    NaN    NaN  302.0  \n",
       "Health, Safety & Social Services           NaN   NaN    NaN    NaN    NaN  \n",
       "Housing & Property Maintenance             NaN   NaN    NaN    NaN    NaN  \n",
       "Parking & Vehicles                        31.0   NaN    NaN    NaN    NaN  \n",
       "Streets, Sidewalks & Transportation     1330.0  53.0  340.0    NaN    NaN  \n",
       "Water & Sewage                             NaN   NaN    NaN    NaN    NaN  "
      ]
     },
     "execution_count": 30,
     "metadata": {},
     "output_type": "execute_result"
    }
   ],
   "source": [
    "#Create dataframes of SLA values\n",
    "day = cityline22[cityline22['Sla_in_hours'] == 24]\n",
    "tdays = cityline22[cityline22['Sla_in_hours'] == 48]\n",
    "thdays = cityline22[cityline22['Sla_in_hours'] == 72]\n",
    "fdays = cityline22[cityline22['Sla_in_hours'] == 96]\n",
    "fvdays = cityline22[cityline22['Sla_in_hours'] == 120]\n",
    "tweeks = cityline22[cityline22['Sla_in_hours'] == 288]\n",
    "thweeks = cityline22[cityline22['Sla_in_hours'] == 360]\n",
    "mweeks = cityline22[cityline22['Sla_in_hours'] == 504]\n",
    "months = cityline22[cityline22['Sla_in_hours'] == 1344]\n",
    "\n",
    "#Count value occurances in agency name column\n",
    "d = day.Agency_Name.value_counts()\n",
    "t = tdays.Agency_Name.value_counts()\n",
    "th = thdays.Agency_Name.value_counts()\n",
    "f = fdays.Agency_Name.value_counts()\n",
    "fv = fvdays.Agency_Name.value_counts()\n",
    "tw = tweeks.Agency_Name.value_counts()\n",
    "thw = thweeks.Agency_Name.value_counts()\n",
    "mw = mweeks.Agency_Name.value_counts()\n",
    "m = months.Agency_Name.value_counts()\n",
    "\n",
    "#Combine data into single dataframe\n",
    "Sla_group = pd.DataFrame({ '24' : d, '48' : t,  '72' : th, '96' : f ,  '120' : fv, '288' : tw ,  '360' : thw,  '504' : mw,  '1344' : m  })\n",
    "Sla_group"
   ]
  },
  {
   "cell_type": "markdown",
   "id": "57a9aa0c-0bef-46e2-a58e-fdf29631f146",
   "metadata": {},
   "source": [
    "###   HOW WELL DID THE CITY RESOLVE REQUESTS IN 2022 ### \n",
    "\n",
    "#Count of agencies and assignees - Done  \n",
    "#Count of assignee per agency - Done  \n",
    "#Count of issues by agency name  - AGENCY WITH THE MOST REQUESTS, Certain agencies handle way more requests than others - Done  \n",
    "#Count of issues by month  - MONTH WITH THE MOST REQUESTS, anything notable - Done\n",
    "#Count of submissions by request type - how do requests get looked at  - most people still prefer to submit paper forms versus electronic - Done  \n",
    "#Sla range for each category - which agencies take the longest - Done  \n",
    "#Avg Resolution Time by agency name  QUICKEST AGENCIES, certain agencies require more time to resolve issues than others wide spread  "
   ]
  },
  {
   "cell_type": "markdown",
   "id": "9b8857d3-eb84-494a-8ffe-8323628cba2e",
   "metadata": {},
   "source": [
    "**What we learned**  \n",
    "#Agency that received the most requests = Garbage, Recycling & Graffiti Dept.  \n",
    "#Requests were assgined out to 56 different indiviuals and teams  \n",
    "#September received the most requests and requests declined from there  \n",
    "#Majority of requests get submitted by paper form  \n",
    "#SLAs range from 24 to 1344 hours"
   ]
  },
  {
   "cell_type": "code",
   "execution_count": null,
   "id": "6c1965cd-c8ee-4308-b618-12c95b3ff89d",
   "metadata": {},
   "outputs": [],
   "source": []
  }
 ],
 "metadata": {
  "kernelspec": {
   "display_name": "Python 3 (ipykernel)",
   "language": "python",
   "name": "python3"
  },
  "language_info": {
   "codemirror_mode": {
    "name": "ipython",
    "version": 3
   },
   "file_extension": ".py",
   "mimetype": "text/x-python",
   "name": "python",
   "nbconvert_exporter": "python",
   "pygments_lexer": "ipython3",
   "version": "3.11.3"
  }
 },
 "nbformat": 4,
 "nbformat_minor": 5
}
